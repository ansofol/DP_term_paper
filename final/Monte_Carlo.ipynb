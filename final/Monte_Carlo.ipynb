{
 "cells": [
  {
   "attachments": {},
   "cell_type": "markdown",
   "metadata": {},
   "source": [
    "# Notebook for Monte-Carlo Simulation"
   ]
  },
  {
   "cell_type": "code",
   "execution_count": 1,
   "metadata": {},
   "outputs": [],
   "source": [
    "## Import Various Packages \n",
    "\n",
    "%load_ext autoreload\n",
    "%autoreload 2\n",
    "\n",
    "%load_ext line_profiler\n",
    "# Import files related to the model\n",
    "from project_code.Simulation import simulate\n",
    "from project_code import EGM\n",
    "from project_code import tools\n",
    "from project_code import DC_EGM\n",
    "from project_code import Estimation as est\n",
    "\n",
    "# Import General packages \n",
    "import numpy as np\n",
    "from scipy import optimize\n",
    "from project_code.model import Model\n",
    "from matplotlib import pyplot as plt\n",
    "import pickle\n",
    "import seaborn as sns\n",
    "import project_code.auxiliary_funcs as af\n",
    "import time as time\n",
    "import copy as copy\n",
    "import pandas as pd \n",
    "\n",
    "import warnings\n",
    "warnings.filterwarnings('ignore') #:)"
   ]
  },
  {
   "cell_type": "code",
   "execution_count": 2,
   "metadata": {},
   "outputs": [],
   "source": [
    "# Parameters used \n",
    "par2 = {'a_max':100,\n",
    "        'Smax': 6,\n",
    "        'sigma_taste': 0.3,\n",
    "        'sigma': 0.5,\n",
    "        'm_initial': 1,\n",
    "        'phi_high': 5,\n",
    "        'phi_low': 1,\n",
    "        'theta_high':0.66,\n",
    "        'theta_low':0.33,\n",
    "        'lambda_max':0.797\n",
    "        }"
   ]
  },
  {
   "cell_type": "code",
   "execution_count": 3,
   "metadata": {},
   "outputs": [],
   "source": [
    "# Set up of the model\n",
    "model = Model() # Load model\n",
    "model.setup() # Set initial parameters \n",
    "\n",
    "# solution and simulation specs\n",
    "model.par.Na = 200\n",
    "model.par.Tmax = 45\n",
    "model.par.Tsim = model.par.Tmax\n",
    "model.par.Ntypes = 4\n",
    "model.par.N = 10000\n",
    "model.par.Ns = 10\n",
    "# set parameters to those in par2\n",
    "for key, val in par2.items():\n",
    "    model.par.__setattr__(key, val)\n",
    "\n",
    "model.par.easy_par=False # Not used\n",
    "\n",
    "# Set grids\n",
    "model.set_grids()\n",
    "\n",
    "par = model.par\n",
    "sol = model.sol\n",
    "sim = model.sim"
   ]
  },
  {
   "cell_type": "code",
   "execution_count": 4,
   "metadata": {},
   "outputs": [
    {
     "name": "stdout",
     "output_type": "stream",
     "text": [
      "Model Solved\n"
     ]
    }
   ],
   "source": [
    "# Solve Model \n",
    "model.solve()\n",
    "print(\"Model Solved\")"
   ]
  },
  {
   "attachments": {},
   "cell_type": "markdown",
   "metadata": {},
   "source": [
    "# 1) Monte Carlo Experiment I "
   ]
  },
  {
   "cell_type": "code",
   "execution_count": 5,
   "metadata": {},
   "outputs": [],
   "source": [
    "run = False # Change to True to Run the Experiment\n",
    "\n",
    "if run == True: \n",
    "    # Initialize \n",
    "    Results = {}  # Dictionary for results\n",
    "    dist_true = [0.25,0.25,0.25,0.25] # True parameters \n",
    "    N = 50 # Number of MC iterations \n",
    "\n",
    "    for i in range(N): \n",
    "\n",
    "        par.dist = dist_true # Reset distribution to the true distribution\n",
    "\n",
    "        est.reset_sim(sim,model) # Allocate simulation grids\n",
    "\n",
    "        # Change Seed \n",
    "        seed_obj = np.random \n",
    "        seed_obj.seed(1667+i)\n",
    "        par.random = seed_obj\n",
    "\n",
    "        simulate(sim,sol,par) # Simulate \n",
    "        \n",
    "        data = model.sim  # Save simulation results\n",
    " \n",
    "        sec = time.time() # Start timing\n",
    "\n",
    "        res,_ = est.estimate(est.obj,data,model,[0.2,0.8]) # Estimate from geuss\n",
    "\n",
    "        time_it = time.time() - sec # Calculate Time\n",
    "\n",
    "        # Dictionary with results for iteration i\n",
    "        result = {  \"p1\" : res.x[0], \n",
    "                    \"p2\" : res.x[1], \n",
    "                    \"fun\" : res.fun, \n",
    "                    \"Succes\" : res.success,\n",
    "                    \"Time\" : time_it }\n",
    "        \n",
    "        Results[f\"result_{i}\"] = result # Save results \n",
    "\n",
    "    # Export experiment I to Pickle\n",
    "    obj_result = Results \n",
    "    file_result = open('pickles/MC.obj1','wb')\n",
    "    pickle.dump(obj_result,file_result,protocol=pickle.HIGHEST_PROTOCOL)"
   ]
  },
  {
   "cell_type": "code",
   "execution_count": 6,
   "metadata": {},
   "outputs": [],
   "source": [
    "# Open results \n",
    "file_open = open('pickles/MC.obj1','rb')\n",
    "saved_result = pickle.load(file_open)\n",
    "\n",
    "# Change to dataframe \n",
    "Data_1 = pd.DataFrame(saved_result).T"
   ]
  },
  {
   "cell_type": "code",
   "execution_count": 7,
   "metadata": {},
   "outputs": [
    {
     "data": {
      "text/plain": [
       "p1          0.498669\n",
       "p2          0.504933\n",
       "fun         1.134314\n",
       "Succes      1.000000\n",
       "Time      494.140044\n",
       "dtype: float64"
      ]
     },
     "execution_count": 7,
     "metadata": {},
     "output_type": "execute_result"
    }
   ],
   "source": [
    "Data_1.mean() # Find mean"
   ]
  },
  {
   "cell_type": "code",
   "execution_count": 8,
   "metadata": {},
   "outputs": [
    {
     "data": {
      "text/plain": [
       "p1         0.020218\n",
       "p2         0.025277\n",
       "fun        0.741926\n",
       "Succes     0.000000\n",
       "Time      43.226303\n",
       "dtype: float64"
      ]
     },
     "execution_count": 8,
     "metadata": {},
     "output_type": "execute_result"
    }
   ],
   "source": [
    "Data_1.std() # Find Standard Deviation"
   ]
  },
  {
   "attachments": {},
   "cell_type": "markdown",
   "metadata": {},
   "source": [
    "# 2) Monte Carlo Experiment II "
   ]
  },
  {
   "attachments": {},
   "cell_type": "markdown",
   "metadata": {},
   "source": [
    "## 2.1) Monte Carlo  "
   ]
  },
  {
   "cell_type": "code",
   "execution_count": 9,
   "metadata": {},
   "outputs": [],
   "source": [
    "run = False # Change to True to run\n",
    "\n",
    "sol_true = copy.deepcopy(sol) # Save Actual Solution\n",
    "\n",
    "if run == True: \n",
    "    # Initialize\n",
    "    Results = {} # Dictionary for results\n",
    "    \n",
    "    # True parameters \n",
    "    dist_true = [0.25,0.25,0.25,0.25] \n",
    "    phi_high_true = 5\n",
    "\n",
    "    N = 50 # Number of MC iterations \n",
    "\n",
    "    for i in range(N): \n",
    "\n",
    "        par.dist = dist_true # Set true distribution\n",
    "\n",
    "        \n",
    "\n",
    "        # Set Seed\n",
    "        seed_obj = np.random\n",
    "        seed_obj.seed(1687+i)\n",
    "        par.random = seed_obj \n",
    "\n",
    "        setattr(model.par, \"phi_high\", phi_high_true) # Set true transfers \n",
    "        est.reset_sim(sim,model)  # Allocation of simulation grids\n",
    "        simulate(sim,sol_true,par) # Simulate\n",
    "        \n",
    "        data = model.sim # Save simulation\n",
    "\n",
    "        sec = time.time() # Starting timing\n",
    "\n",
    "        res = est.estimate_transfer(data,model,[0.2,0.8,3]) # Estimate \n",
    "\n",
    "        time_it = time.time() - sec #Calculate time\n",
    "\n",
    "        # Dictionary for results of iteration i\n",
    "        result = {  \"p1\" : res.x[0], \n",
    "                    \"p2\" : res.x[1],\n",
    "                    \"Phi_high\" : res.x[2], \n",
    "                    \"fun\" : res.fun, \n",
    "                    \"Succes\" : res.success,\n",
    "                    \"Time\" : time_it }\n",
    "        \n",
    "        Results[f\"result_{i}\"] = result # Save results\n",
    "\n",
    "    # Export experiment II to Pickle\n",
    "    obj_result = Results \n",
    "    file_result = open('pickles/MC.obj2','wb')\n",
    "    pickle.dump(obj_result,file_result,protocol=pickle.HIGHEST_PROTOCOL)"
   ]
  },
  {
   "attachments": {},
   "cell_type": "markdown",
   "metadata": {},
   "source": [
    "## 2.1) Play around with the results from Experiment II "
   ]
  },
  {
   "cell_type": "code",
   "execution_count": 10,
   "metadata": {},
   "outputs": [],
   "source": [
    "# Open results \n",
    "file_open = open('pickles/MC.obj2','rb')\n",
    "saved_result = pickle.load(file_open)"
   ]
  },
  {
   "cell_type": "code",
   "execution_count": 11,
   "metadata": {},
   "outputs": [],
   "source": [
    "# Change to dataframe \n",
    "Data_2 = pd.DataFrame(saved_result).T"
   ]
  },
  {
   "cell_type": "code",
   "execution_count": 12,
   "metadata": {},
   "outputs": [
    {
     "data": {
      "text/plain": [
       "p1            0.492586\n",
       "p2            0.506192\n",
       "Phi_high      5.002631\n",
       "fun           3.384104\n",
       "Succes        1.000000\n",
       "Time        940.810290\n",
       "dtype: float64"
      ]
     },
     "execution_count": 12,
     "metadata": {},
     "output_type": "execute_result"
    }
   ],
   "source": [
    "Data_2.mean() # Find mean"
   ]
  },
  {
   "cell_type": "code",
   "execution_count": 13,
   "metadata": {},
   "outputs": [
    {
     "data": {
      "text/plain": [
       "p1            0.078224\n",
       "p2            0.023762\n",
       "Phi_high      0.471917\n",
       "fun          12.921332\n",
       "Succes        0.000000\n",
       "Time        117.555208\n",
       "dtype: float64"
      ]
     },
     "execution_count": 13,
     "metadata": {},
     "output_type": "execute_result"
    }
   ],
   "source": [
    "Data_2.std() # Find Standard Deviation"
   ]
  },
  {
   "cell_type": "code",
   "execution_count": 14,
   "metadata": {},
   "outputs": [],
   "source": [
    "# Unpack results \n",
    "phi_highs = np.empty(50)\n",
    "p1s = np.empty(50)\n",
    "p2s = np.empty(50)\n",
    "\n",
    "for i in range(50): \n",
    "    phi_highs[i] = saved_result[f'result_{i}'][\"Phi_high\"]\n",
    "    p1s[i] = saved_result[f'result_{i}'][\"p1\"]\n",
    "    p2s[i] = saved_result[f'result_{i}'][\"p2\"]"
   ]
  },
  {
   "attachments": {},
   "cell_type": "markdown",
   "metadata": {},
   "source": [
    "## 2.3) Make a scatter plot over the estimates of phi high and p1 "
   ]
  },
  {
   "cell_type": "code",
   "execution_count": 15,
   "metadata": {},
   "outputs": [
    {
     "data": {
      "image/png": "[encoded data removed]",
      "text/plain": [
       "<Figure size 640x480 with 1 Axes>"
      ]
     },
     "metadata": {},
     "output_type": "display_data"
    }
   ],
   "source": [
    "# Make scatter plot that shows the correlation \n",
    "fig,ax = plt.subplots(1,1)\n",
    "ax.scatter(Data_2.p1,Data_2.Phi_high)\n",
    "\n",
    "ax.set_ylabel(\"Estimate of $t(\\phi_{high})$\")\n",
    "ax.set_xlabel(\"Estimate of $p_{high}$\")\n",
    "ax.grid()\n",
    "ax.set_ylim([4,8])\n",
    "ax.set_xlim([0,0.65])\n",
    "\n",
    "ax.vlines(0.5,0,10,color=\"red\")\n",
    "ax.hlines(5,0,10,color=\"red\")\n",
    "\n",
    "fig.savefig(r\"figs\\scatter_phi_p_2.png\")"
   ]
  },
  {
   "cell_type": "code",
   "execution_count": 16,
   "metadata": {},
   "outputs": [
    {
     "data": {
      "text/html": [
       "<div>\n",
       "<style scoped>\n",
       "    .dataframe tbody tr th:only-of-type {\n",
       "        vertical-align: middle;\n",
       "    }\n",
       "\n",
       "    .dataframe tbody tr th {\n",
       "        vertical-align: top;\n",
       "    }\n",
       "\n",
       "    .dataframe thead th {\n",
       "        text-align: right;\n",
       "    }\n",
       "</style>\n",
       "<table border=\"1\" class=\"dataframe\">\n",
       "  <thead>\n",
       "    <tr style=\"text-align: right;\">\n",
       "      <th></th>\n",
       "      <th>p1</th>\n",
       "      <th>p2</th>\n",
       "      <th>Phi_high</th>\n",
       "      <th>fun</th>\n",
       "      <th>Succes</th>\n",
       "      <th>Time</th>\n",
       "    </tr>\n",
       "  </thead>\n",
       "  <tbody>\n",
       "    <tr>\n",
       "      <th>result_24</th>\n",
       "      <td>0.211744</td>\n",
       "      <td>0.494812</td>\n",
       "      <td>6.759836</td>\n",
       "      <td>51.70163</td>\n",
       "      <td>True</td>\n",
       "      <td>792.346431</td>\n",
       "    </tr>\n",
       "    <tr>\n",
       "      <th>result_28</th>\n",
       "      <td>0.09437</td>\n",
       "      <td>0.434419</td>\n",
       "      <td>7.22307</td>\n",
       "      <td>77.656059</td>\n",
       "      <td>True</td>\n",
       "      <td>643.925917</td>\n",
       "    </tr>\n",
       "  </tbody>\n",
       "</table>\n",
       "</div>"
      ],
      "text/plain": [
       "                 p1        p2  Phi_high        fun Succes        Time\n",
       "result_24  0.211744  0.494812  6.759836   51.70163   True  792.346431\n",
       "result_28   0.09437  0.434419   7.22307  77.656059   True  643.925917"
      ]
     },
     "execution_count": 16,
     "metadata": {},
     "output_type": "execute_result"
    }
   ],
   "source": [
    "# Inspect Outliers \n",
    "I = Data_2.fun>6\n",
    "Data_2[I]"
   ]
  },
  {
   "attachments": {},
   "cell_type": "markdown",
   "metadata": {},
   "source": [
    "# 3) Plot Criterion Functions "
   ]
  },
  {
   "attachments": {},
   "cell_type": "markdown",
   "metadata": {},
   "source": [
    "## 3.1) Criterion Function for Experiment I "
   ]
  },
  {
   "cell_type": "code",
   "execution_count": 17,
   "metadata": {},
   "outputs": [],
   "source": [
    "# Set up of the model\n",
    "model = Model() # Load model\n",
    "model.setup() # Set initial parameters \n",
    "\n",
    "# solution and simulation specs\n",
    "model.par.Na = 200\n",
    "model.par.Tmax = 45\n",
    "model.par.Tsim = model.par.Tmax\n",
    "model.par.Ntypes = 4\n",
    "model.par.N = 10000\n",
    "model.par.Ns = 10\n",
    "# set parameters to those in par2\n",
    "for key, val in par2.items():\n",
    "    model.par.__setattr__(key, val)\n",
    "\n",
    "model.par.easy_par=False # Not used\n",
    "\n",
    "# Set grids\n",
    "model.set_grids()\n",
    "\n",
    "par = model.par\n",
    "sol = model.sol\n",
    "sim = model.sim\n",
    "\n",
    "# Simulate and find income shares \n",
    "model.solve()\n",
    "simulate(sim,sol,par)\n",
    "data = copy.deepcopy(sim)\n",
    "data_true = data \n",
    "share_Rich = np.sum((data_true.type == 0) + (data_true.type == 2)) / len(data_true.type) \n",
    "share_Poor = 1-share_Rich\n"
   ]
  },
  {
   "cell_type": "code",
   "execution_count": 19,
   "metadata": {},
   "outputs": [
    {
     "name": "stdout",
     "output_type": "stream",
     "text": [
      "625.8600312987243\n",
      "489.6750323877614\n",
      "395.4109266775904\n",
      "325.75164476259357\n",
      "291.81295428325683\n",
      "288.87623185714256\n",
      "306.0502200410197\n",
      "363.54080828274977\n",
      "455.2317120717853\n",
      "580.1587447500498\n",
      "517.4631913961059\n",
      "385.3312695530012\n",
      "281.733567201929\n",
      "215.88317808934823\n",
      "181.4526983061393\n",
      "171.7423176970542\n",
      "192.96213583788335\n",
      "252.37825152760104\n",
      "341.67435935976255\n",
      "464.77591100941294\n",
      "435.9731717692759\n",
      "295.25897828859945\n",
      "197.10442673603495\n",
      "131.80338871965574\n",
      "92.1392998339979\n",
      "85.69514052601654\n",
      "110.39920043380943\n",
      "167.91841748647403\n",
      "256.9777650741464\n",
      "384.2480761667051\n",
      "381.58398192744124\n",
      "244.64633731097172\n",
      "147.4673303292551\n",
      "75.54174584909414\n",
      "36.713369858051315\n",
      "29.16790035953254\n",
      "54.02863152538467\n",
      "110.04475944012732\n",
      "201.46559424333185\n",
      "323.2623123215981\n",
      "357.9241159556097\n",
      "224.69619603215267\n",
      "123.18427744078818\n",
      "50.09808676575034\n",
      "10.048958600020022\n",
      "3.4152662889407805\n",
      "28.371707095328212\n",
      "86.29443828116129\n",
      "175.06500374941083\n",
      "304.24691041761537\n",
      "364.4580637258556\n",
      "229.59758149999288\n",
      "126.79165339875968\n",
      "52.16920306555758\n",
      "14.083594899785478\n",
      "8.55962891915455\n",
      "36.47782464253325\n",
      "95.13619609118449\n",
      "190.05101274202522\n",
      "321.450685787423\n",
      "399.4497079944469\n",
      "261.16646363388156\n",
      "158.1869328264829\n",
      "83.74129591441393\n",
      "46.75296529617806\n",
      "41.955997154104985\n",
      "72.78258796318812\n",
      "134.1661989275972\n",
      "227.6357885517462\n",
      "357.92078646280504\n",
      "460.7512535415313\n",
      "323.42486113453873\n",
      "220.65431349869925\n",
      "145.6941434539567\n",
      "108.42501555010483\n",
      "107.17183842112821\n",
      "138.4379885579004\n",
      "197.34489700651\n",
      "288.6837110309516\n",
      "416.47741593369665\n",
      "556.5796455193126\n",
      "419.07984180870517\n",
      "316.6123513455375\n",
      "239.4337135382636\n",
      "206.8813525592236\n",
      "201.5585378546417\n",
      "230.87385786137838\n",
      "287.67568879369867\n",
      "378.61803447238833\n",
      "514.4354709574673\n",
      "682.3721422107724\n",
      "547.7346819937596\n",
      "446.1192680673274\n",
      "373.27553765013863\n",
      "333.8684736796323\n",
      "327.3945894729586\n",
      "355.21478147605706\n",
      "414.4590913297063\n",
      "511.26175145123284\n",
      "638.0616903713756\n"
     ]
    }
   ],
   "source": [
    "run = True # Change to True to run\n",
    "\n",
    "if run:\n",
    "    N = 10 # Points in each dimension\n",
    "\n",
    "    # Set values \n",
    "    p1s = np.linspace(1e-8, 1-1e-8, N)\n",
    "    p2s = np.linspace(1e-8, 1-1e-8, N)\n",
    "\n",
    "    criterion = np.zeros((N,N)) # Grid to save values \n",
    "\n",
    "    for i1,p1 in enumerate(p1s): # Find criterion value for each point in p1s x p2s \n",
    "        for i2,p2 in enumerate(p2s):\n",
    "            c = est.obj([p1,p2], data, model, [share_Rich, share_Poor], \"I\")\n",
    "            criterion[i1,i2] = c\n",
    "\n",
    "    to_file = (p1s, p2s, criterion) # Make ready to save \n",
    "\n",
    "    with open('pickles/criterion_plot_10000','wb') as file: # Save File \n",
    "        pickle.dump(to_file, file)"
   ]
  },
  {
   "cell_type": "code",
   "execution_count": 20,
   "metadata": {},
   "outputs": [
    {
     "data": {
      "image/png": "[encoded data removed]",
      "text/plain": [
       "<Figure size 640x480 with 2 Axes>"
      ]
     },
     "metadata": {},
     "output_type": "display_data"
    }
   ],
   "source": [
    "# Plot the criterion function using the values from above\n",
    "%matplotlib inline\n",
    "\n",
    "with open('pickles/criterion_plot_10000', 'rb') as file:\n",
    "    p1s, p2s, criterion = pickle.load(file)\n",
    "\n",
    "p1_mesh, p2_mesh = np.meshgrid(p1s, p2s,  indexing='ij')\n",
    "\n",
    "fig = plt.figure()\n",
    "ax = fig.add_subplot()\n",
    "contour = ax.contourf(p1_mesh, p2_mesh, criterion, cmap='viridis', levels = [0,50, 100, 200, 400, 600, 800, 1000])\n",
    "ax.set_xlabel(r'$p_{high}$')\n",
    "ax.set_ylabel(r'$p_{low}$')\n",
    "ax.scatter(0.5, 0.5, color='red')\n",
    "\n",
    "cbar = fig.colorbar(contour)\n",
    "\n",
    "fig.savefig('figs/criterion_p1p2.png')"
   ]
  },
  {
   "attachments": {},
   "cell_type": "markdown",
   "metadata": {},
   "source": [
    "## 3.2) Criterion functions for Experiment II "
   ]
  },
  {
   "cell_type": "code",
   "execution_count": 21,
   "metadata": {},
   "outputs": [
    {
     "name": "stdout",
     "output_type": "stream",
     "text": [
      "Setup done\n",
      "Model solved\n",
      "Model simulated\n"
     ]
    }
   ],
   "source": [
    "model_easy = Model()\n",
    "model_easy.setup()\n",
    "\n",
    "# solution and simulation specs\n",
    "model_easy.par.Na = 200\n",
    "model_easy.par.Tmax = 45\n",
    "model_easy.par.Tsim = model.par.Tmax\n",
    "model_easy.par.Ntypes = 4\n",
    "model_easy.par.N = 10000\n",
    "\n",
    "# set parameters\n",
    "for key, val in par2.items():\n",
    "    model_easy.par.__setattr__(key, val)\n",
    "\n",
    "model_easy.par.easy_par = False\n",
    "model_easy.set_grids()\n",
    "\n",
    "print('Setup done')\n",
    "\n",
    "model_easy.solve()\n",
    "print('Model solved')\n",
    "\n",
    "simulate(model_easy.sim, model_easy.sol, model_easy.par)\n",
    "print('Model simulated')\n",
    "\n"
   ]
  },
  {
   "cell_type": "code",
   "execution_count": 22,
   "metadata": {},
   "outputs": [],
   "source": [
    "data_easy = copy.deepcopy(model_easy.sim)"
   ]
  },
  {
   "cell_type": "code",
   "execution_count": 23,
   "metadata": {},
   "outputs": [
    {
     "name": "stdout",
     "output_type": "stream",
     "text": [
      "5104.505389026996\n",
      "2927.03677280563\n",
      "1611.1103085398327\n",
      "872.0131239783359\n",
      "430.3258413123473\n",
      "182.9440794215419\n",
      "57.19585888360161\n",
      "11.489517965853207\n",
      "24.11814494382959\n",
      "75.07840267361537\n",
      "4463.405271170876\n",
      "2391.161230103644\n",
      "1241.4997922988507\n",
      "628.3318583292189\n",
      "279.537614723562\n",
      "97.83719189303707\n",
      "20.62364032657424\n",
      "9.73506300365846\n",
      "46.60521698656391\n",
      "114.92630979223196\n",
      "3891.8110098335173\n",
      "1907.962690906495\n",
      "917.5305952627691\n",
      "422.8943318714366\n",
      "159.31955477856835\n",
      "38.905603342442106\n",
      "4.099635406816343\n",
      "25.217445334168325\n",
      "84.21136356457096\n",
      "168.75736004113946\n",
      "3374.546551042429\n",
      "1491.142201321132\n",
      "644.6950903372424\n",
      "257.3012947244413\n",
      "72.03233409791014\n",
      "6.830501710116107\n",
      "10.147401142437065\n",
      "59.371355423370694\n",
      "137.40286033844717\n",
      "234.7033232243483\n",
      "2916.4184999234094\n",
      "1122.4838498242989\n",
      "418.41868579338734\n",
      "131.2578439900373\n",
      "19.465365660918348\n",
      "3.3512848438089753\n",
      "41.51096253722099\n",
      "116.95955912748263\n",
      "211.58702673289451\n",
      "318.9171552393567\n",
      "2521.062169320974\n",
      "813.6434977169929\n",
      "243.68145933738674\n",
      "49.514660599385806\n",
      "0.9015093539508969\n",
      "26.999274754216668\n",
      "90.75403040906856\n",
      "183.61553356759035\n",
      "289.71274485622405\n",
      "401.3090579129193\n",
      "2203.608224965556\n",
      "566.0466779331481\n",
      "119.42048215323942\n",
      "8.517962258897827\n",
      "14.033693026090733\n",
      "75.22578048412531\n",
      "162.45811830224767\n",
      "269.16452929180616\n",
      "384.5639592072689\n",
      "500.82395628158855\n",
      "1921.6117421823155\n",
      "367.0002245546669\n",
      "37.91434204050435\n",
      "4.966396283336558\n",
      "61.92669649017363\n",
      "152.82356261609294\n",
      "260.52226238708874\n",
      "378.8596599866456\n",
      "501.87541128835886\n",
      "619.8232074913954\n",
      "1703.9206944102123\n",
      "225.29218350675248\n",
      "6.204555544560882\n",
      "40.59163005666794\n",
      "141.13803445409826\n",
      "255.03898152958328\n",
      "374.755514526973\n",
      "498.3057194794583\n",
      "625.2223524018232\n",
      "742.7348958886961\n",
      "1534.0606244852831\n",
      "134.28959488962835\n",
      "21.95293803933108\n",
      "119.78396715887173\n",
      "257.911343211078\n",
      "393.6359579920751\n",
      "520.3265937054326\n",
      "648.5937233158077\n",
      "776.2482271788797\n",
      "893.976569043905\n"
     ]
    }
   ],
   "source": [
    "# Criterion function, fix p2=0.5\n",
    "# tranfsers and p1\n",
    "run = True\n",
    "\n",
    "if run:\n",
    "    p2 = 0.5\n",
    "    N = 10\n",
    "    p1_grid = np.linspace(1e-8, 1-1e-8, N)\n",
    "    phi_grid = np.linspace(2, 8, N)\n",
    "    p1_mesh, phi_mesh = np.meshgrid(p1_grid, phi_grid, indexing='ij')\n",
    "\n",
    "    cri1_mesh = np.zeros((N,N)) + np.nan\n",
    "\n",
    "    for i1,p1 in enumerate(p1_grid):\n",
    "        for ip,phi in enumerate(phi_grid):\n",
    "            c = est.obj_transfer([p1,p2, phi], data_easy, model_easy, [share_Rich, share_Poor], \"I\")\n",
    "            cri1_mesh[i1,ip] = c\n",
    "\n",
    "    to_file = (p1_grid, phi_grid, cri1_mesh)\n",
    "\n",
    "    with open('pickles/criterion_plot_p1phi','wb') as file:\n",
    "        pickle.dump(to_file, file)"
   ]
  },
  {
   "cell_type": "code",
   "execution_count": 24,
   "metadata": {},
   "outputs": [
    {
     "data": {
      "image/png": "[encoded data removed]",
      "text/plain": [
       "<Figure size 640x480 with 2 Axes>"
      ]
     },
     "metadata": {},
     "output_type": "display_data"
    }
   ],
   "source": [
    "%matplotlib inline\n",
    "\n",
    "with open('pickles/criterion_plot_p1phi', 'rb') as file:\n",
    "    p1s, phi_grid, cri1_mesh = pickle.load(file)\n",
    "\n",
    "p1_mesh, phi_mesh = np.meshgrid(p1s, phi_grid, indexing='ij')\n",
    "\n",
    "fig = plt.figure()\n",
    "ax = fig.add_subplot(1,1,1)\n",
    "contour = ax.contourf(p1_mesh, phi_mesh, cri1_mesh, levels=[0, 25, 50, 100, 200, 400, 800, 1600, 4800])\n",
    "ax.set_xlabel(r'$p_{high}$')\n",
    "ax.set_ylabel('$t(\\phi_{high})$')\n",
    "\n",
    "cmap = fig.colorbar(contour)\n",
    "\n",
    "ax.scatter(0.5, 5, label='True value', color='red')\n",
    "\n",
    "fig.savefig('figs/criterion_p1phi.png')"
   ]
  },
  {
   "cell_type": "code",
   "execution_count": 25,
   "metadata": {},
   "outputs": [
    {
     "name": "stdout",
     "output_type": "stream",
     "text": [
      "3056.901966945079\n",
      "1309.9149211431145\n",
      "679.1614423917426\n",
      "439.6804501803078\n",
      "361.5007283780331\n",
      "368.8935563816686\n",
      "422.6703741815518\n",
      "508.89205749575865\n",
      "612.4994782897311\n",
      "724.7043580722589\n",
      "2922.977158148188\n",
      "1176.657424174602\n",
      "545.06574379413\n",
      "305.7115517417878\n",
      "228.0885629846381\n",
      "235.63200503528856\n",
      "288.4150776140782\n",
      "374.40113065832145\n",
      "476.78114053237607\n",
      "588.7340147299724\n",
      "2824.472397389531\n",
      "1069.8003808823044\n",
      "444.31204605192977\n",
      "205.33748798688288\n",
      "127.61336047466824\n",
      "134.5119334444713\n",
      "186.79027754933537\n",
      "272.97883114938855\n",
      "375.46055608171355\n",
      "487.0414054425497\n",
      "2761.005997415853\n",
      "1003.5583515644598\n",
      "373.7548176621815\n",
      "133.1786235978596\n",
      "53.274682336870654\n",
      "58.56148413044698\n",
      "109.15300422927919\n",
      "193.97330322740788\n",
      "295.6806458172865\n",
      "408.14440022141844\n",
      "2715.890156431249\n",
      "964.3097850524123\n",
      "332.6254034787331\n",
      "93.09119216660761\n",
      "13.605999940274923\n",
      "19.499862867807664\n",
      "72.17128453344792\n",
      "157.96048765162362\n",
      "257.8349283325377\n",
      "368.51222152930757\n",
      "2706.8251311943495\n",
      "957.7594068755747\n",
      "326.9131589366863\n",
      "86.8431555355434\n",
      "7.2369744528624285\n",
      "12.4982570778612\n",
      "63.926420748718016\n",
      "149.78523732482464\n",
      "250.60917999347282\n",
      "360.68799687011335\n",
      "2741.037116175731\n",
      "984.5936415595046\n",
      "353.35248198165533\n",
      "111.83344609933869\n",
      "32.421421381124816\n",
      "39.48947753123221\n",
      "93.615903749828\n",
      "180.24767042395374\n",
      "282.6893483703436\n",
      "395.0213056374384\n",
      "2794.758015392909\n",
      "1038.7023683824707\n",
      "408.64835075222334\n",
      "166.0996809948673\n",
      "89.36619795394755\n",
      "98.50500833748046\n",
      "154.97520279952403\n",
      "241.6460572216037\n",
      "346.125444688802\n",
      "460.73654709791646\n",
      "2890.6761425253076\n",
      "1132.6717874857081\n",
      "504.2450396951366\n",
      "258.40469529030133\n",
      "181.8404730186783\n",
      "191.49204497442116\n",
      "250.28196241161203\n",
      "339.2890491618019\n",
      "446.31469465101327\n",
      "562.9523622682475\n",
      "3014.726847648515\n",
      "1254.5712654025424\n",
      "627.835885125123\n",
      "382.9161605354177\n",
      "308.080677609096\n",
      "319.24828022390096\n",
      "377.68055151052226\n",
      "468.4385777354121\n",
      "575.7736745991923\n",
      "694.8035407931363\n"
     ]
    }
   ],
   "source": [
    "# Criterion function, fix p1=0.5\n",
    "# transfers and p2\n",
    "\n",
    "run = True\n",
    "\n",
    "if run:\n",
    "    p1 = 0.5\n",
    "    N = 10\n",
    "    p2_grid = np.linspace(1e-8, 1-1e-8, N)\n",
    "    phi_grid = np.linspace(2, 8, N)\n",
    "    p2_mesh, phi_mesh = np.meshgrid(p2_grid, phi_grid, indexing='ij')\n",
    "\n",
    "    cri2_mesh = np.zeros((N,N)) + np.nan\n",
    "\n",
    "    for i2,p2 in enumerate(p2_grid):\n",
    "        for ip,phi in enumerate(phi_grid):\n",
    "            c = est.obj_transfer([p1,p2, phi], data, model, [share_Rich, share_Poor], \"I\")\n",
    "            cri2_mesh[i2,ip] = c\n",
    "\n",
    "    to_file = (p2_grid, phi_grid, cri2_mesh)\n",
    "\n",
    "    with open('pickles/criterion_plot_p2phi','wb') as file:\n",
    "        pickle.dump(to_file, file)"
   ]
  },
  {
   "cell_type": "code",
   "execution_count": 26,
   "metadata": {},
   "outputs": [
    {
     "data": {
      "image/png": "[encoded data removed]",
      "text/plain": [
       "<Figure size 640x480 with 2 Axes>"
      ]
     },
     "metadata": {},
     "output_type": "display_data"
    }
   ],
   "source": [
    "%matplotlib inline\n",
    "\n",
    "with open('pickles/criterion_plot_p2phi', 'rb') as file:\n",
    "    p2s, phi_grid, cri2_mesh = pickle.load(file)\n",
    "\n",
    "p2_mesh, phi_mesh = np.meshgrid(p2s, phi_grid, indexing='ij')\n",
    "\n",
    "fig = plt.figure()\n",
    "ax = fig.add_subplot()\n",
    "contour = ax.contourf(p2_mesh, phi_mesh, cri2_mesh, cmap='viridis', levels=[0, 25, 50, 100, 200, 400, 800, 1600])\n",
    "ax.set_xlabel(r'$p_{high}$')\n",
    "ax.set_ylabel('$t(\\phi_{low})$')\n",
    "\n",
    "cmap = fig.colorbar(contour)\n",
    "\n",
    "ax.scatter(0.5, 5, color='red')\n",
    "\n",
    "fig.savefig('figs/criterion_p2phi.png')"
   ]
  }
 ],
 "metadata": {
  "kernelspec": {
   "display_name": "base",
   "language": "python",
   "name": "python3"
  },
  "language_info": {
   "codemirror_mode": {
    "name": "ipython",
    "version": 3
   },
   "file_extension": ".py",
   "mimetype": "text/x-python",
   "name": "python",
   "nbconvert_exporter": "python",
   "pygments_lexer": "ipython3",
   "version": "3.9.16"
  },
  "orig_nbformat": 4
 },
 "nbformat": 4,
 "nbformat_minor": 2
}
