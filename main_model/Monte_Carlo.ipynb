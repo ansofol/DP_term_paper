{
 "cells": [
  {
   "attachments": {},
   "cell_type": "markdown",
   "metadata": {},
   "source": [
    "# Notebook for Monte-Carlo Simulation"
   ]
  },
  {
   "cell_type": "code",
   "execution_count": 2,
   "metadata": {},
   "outputs": [],
   "source": [
    "## Import Various Packages \n",
    "\n",
    "%load_ext autoreload\n",
    "%autoreload 2\n",
    "\n",
    "%load_ext line_profiler\n",
    "# Import files related to the model\n",
    "from Simulation import simulate\n",
    "import EGM\n",
    "import tools\n",
    "import DC_EGM\n",
    "import Estimation as est\n",
    "\n",
    "# Import General packages \n",
    "import numpy as np\n",
    "from scipy import optimize\n",
    "from model import Model\n",
    "from matplotlib import pyplot as plt\n",
    "import pickle\n",
    "import seaborn as sns\n",
    "import auxiliary_funcs as af\n",
    "import time as time\n",
    "import copy as copy\n",
    "import pandas as pd \n",
    "\n",
    "import warnings\n",
    "warnings.filterwarnings('ignore') #:)"
   ]
  },
  {
   "cell_type": "code",
   "execution_count": 3,
   "metadata": {},
   "outputs": [],
   "source": [
    "# Parameters used \n",
    "par2 = {'a_max':100,\n",
    "        'Smax': 6,\n",
    "        'sigma_taste': 0.3,\n",
    "        'sigma': 0.5,\n",
    "        'm_initial': 1,\n",
    "        'phi_high': 5,\n",
    "        'phi_low': 1,\n",
    "        'theta_high':0.66,\n",
    "        'theta_low':0.33,\n",
    "        'lambda_max':0.797\n",
    "        }"
   ]
  },
  {
   "cell_type": "code",
   "execution_count": 4,
   "metadata": {},
   "outputs": [],
   "source": [
    "# Set up of the model\n",
    "model = Model() # Load model\n",
    "model.setup() # Set initial parameters \n",
    "\n",
    "# solution and simulation specs\n",
    "model.par.Na = 200\n",
    "model.par.Tmax = 45\n",
    "model.par.Tsim = model.par.Tmax\n",
    "model.par.Ntypes = 4\n",
    "model.par.N = 10000\n",
    "model.par.Ns = 10\n",
    "# set parameters to those in par2\n",
    "for key, val in par2.items():\n",
    "    model.par.__setattr__(key, val)\n",
    "\n",
    "model.par.easy_par=False # Not used\n",
    "\n",
    "# Set grids\n",
    "model.set_grids()\n",
    "\n",
    "par = model.par\n",
    "sol = model.sol\n",
    "sim = model.sim"
   ]
  },
  {
   "cell_type": "code",
   "execution_count": 109,
   "metadata": {},
   "outputs": [
    {
     "name": "stdout",
     "output_type": "stream",
     "text": [
      "Model Solved\n"
     ]
    }
   ],
   "source": [
    "# Solve Model \n",
    "model.solve()\n",
    "print(\"Model Solved\")"
   ]
  },
  {
   "attachments": {},
   "cell_type": "markdown",
   "metadata": {},
   "source": [
    "# 1) Monte Carlo Experiment I "
   ]
  },
  {
   "cell_type": "code",
   "execution_count": 77,
   "metadata": {},
   "outputs": [],
   "source": [
    "run = True # Change to True to Run the Experiment\n",
    "\n",
    "if run == False: \n",
    "    # Initialize \n",
    "    Results = {}  # Dictionary for results\n",
    "    dist_true = [0.25,0.25,0.25,0.25] # True parameters \n",
    "    N = 50 # Number of MC iterations \n",
    "\n",
    "    for i in range(N): \n",
    "\n",
    "        par.dist = dist_true # Reset distribution to the true distribution\n",
    "\n",
    "        est.reset_sim(sim,model) # Allocate simulation grids\n",
    "\n",
    "        # Change Seed \n",
    "        seed_obj = np.random \n",
    "        seed_obj.seed(1667+i)\n",
    "        par.random = seed_obj\n",
    "\n",
    "        simulate(sim,sol,par) # Simulate \n",
    "        \n",
    "        data = model.sim  # Save simulation results\n",
    " \n",
    "        sec = time.time() # Start timing\n",
    "\n",
    "        res,_ = est.estimate(est.obj,data,model,[0.2,0.8]) # Estimate from geuss\n",
    "\n",
    "        time_it = time.time() - sec # Calculate Time\n",
    "\n",
    "        # Dictionary with results for iteration i\n",
    "        result = {  \"p1\" : res.x[0], \n",
    "                    \"p2\" : res.x[1], \n",
    "                    \"fun\" : res.fun, \n",
    "                    \"Succes\" : res.success,\n",
    "                    \"Time\" : time_it }\n",
    "        \n",
    "        Results[f\"result_{i}\"] = result # Save results "
   ]
  },
  {
   "cell_type": "code",
   "execution_count": 21,
   "metadata": {},
   "outputs": [
    {
     "data": {
      "text/plain": [
       "p1         0.026864\n",
       "p2         0.026138\n",
       "fun        0.596626\n",
       "Succes     0.000000\n",
       "Time      59.540754\n",
       "dtype: float64"
      ]
     },
     "execution_count": 21,
     "metadata": {},
     "output_type": "execute_result"
    }
   ],
   "source": [
    "results.std()"
   ]
  },
  {
   "attachments": {},
   "cell_type": "markdown",
   "metadata": {},
   "source": [
    "# 2) Monte Carlo Experiment II "
   ]
  },
  {
   "attachments": {},
   "cell_type": "markdown",
   "metadata": {},
   "source": [
    "## 2.1) Monte Carlo  "
   ]
  },
  {
   "cell_type": "code",
   "execution_count": 79,
   "metadata": {},
   "outputs": [],
   "source": [
    "run = False # Change to True to run\n",
    "\n",
    "sol_true = copy.deepcopy(sol) # Save Actual Solution\n",
    "\n",
    "if run == True: \n",
    "    # Initialize\n",
    "    Results = {} # Dictionary for results\n",
    "    \n",
    "    # True parameters \n",
    "    dist_true = [0.25,0.25,0.25,0.25] \n",
    "    phi_high_true = 5\n",
    "\n",
    "    N = 50 # Number of MC iterations \n",
    "\n",
    "    for i in range(N): \n",
    "\n",
    "        par.dist = dist_true # Set true distribution\n",
    "\n",
    "        \n",
    "\n",
    "        # Set Seed\n",
    "        seed_obj = np.random\n",
    "        seed_obj.seed(1687+i)\n",
    "        par.random = seed_obj \n",
    "\n",
    "        setattr(model.par, \"phi_high\", phi_high_true) # Set true transfers \n",
    "        est.reset_sim(sim,model)  # Allocation of simulation grids\n",
    "        simulate(sim,sol_true,par) # Simulate\n",
    "        \n",
    "        data = model.sim # Save simulation\n",
    "\n",
    "        sec = time.time() # Starting timing\n",
    "\n",
    "        res = est.estimate_transfer(data,model,[0.2,0.8,3]) # Estimate \n",
    "\n",
    "        time_it = time.time() - sec #Calculate time\n",
    "\n",
    "        # Dictionary for results of iteration i\n",
    "        result = {  \"p1\" : res.x[0], \n",
    "                    \"p2\" : res.x[1],\n",
    "                    \"Phi_high\" : res.x[2], \n",
    "                    \"fun\" : res.fun, \n",
    "                    \"Succes\" : res.success,\n",
    "                    \"Time\" : time_it }\n",
    "        \n",
    "        Results[f\"result_{i}\"] = result # Save results"
   ]
  },
  {
   "attachments": {},
   "cell_type": "markdown",
   "metadata": {},
   "source": [
    "## 2.1) Play around with the results from Experiment II "
   ]
  },
  {
   "cell_type": "code",
   "execution_count": 88,
   "metadata": {},
   "outputs": [
    {
     "data": {
      "text/plain": [
       "\"\\nobj_result = Results \\nfile_result = open('MC.obj2','wb')\\npickle.dump(obj_result,file_result,protocol=pickle.HIGHEST_PROTOCOL)\\n\""
      ]
     },
     "execution_count": 88,
     "metadata": {},
     "output_type": "execute_result"
    }
   ],
   "source": [
    "# Export experiment II to Pickle\n",
    "'''\n",
    "obj_result = Results \n",
    "file_result = open('MC.obj2','wb')\n",
    "pickle.dump(obj_result,file_result,protocol=pickle.HIGHEST_PROTOCOL)\n",
    "'''\n"
   ]
  },
  {
   "cell_type": "code",
   "execution_count": 96,
   "metadata": {},
   "outputs": [],
   "source": [
    "# Open results \n",
    "file_open = open('MC.obj2','rb')\n",
    "saved_result = pickle.load(file_open)"
   ]
  },
  {
   "cell_type": "code",
   "execution_count": 97,
   "metadata": {},
   "outputs": [],
   "source": [
    "# Change to dataframe \n",
    "Data_2 = pd.DataFrame(saved_result).T"
   ]
  },
  {
   "cell_type": "code",
   "execution_count": 98,
   "metadata": {},
   "outputs": [
    {
     "data": {
      "text/plain": [
       "p1            0.492586\n",
       "p2            0.506192\n",
       "Phi_high      5.002631\n",
       "fun           3.384104\n",
       "Succes        1.000000\n",
       "Time        940.810290\n",
       "dtype: float64"
      ]
     },
     "execution_count": 98,
     "metadata": {},
     "output_type": "execute_result"
    }
   ],
   "source": [
    "Data_2.mean() # Find mean"
   ]
  },
  {
   "cell_type": "code",
   "execution_count": 95,
   "metadata": {},
   "outputs": [
    {
     "data": {
      "text/plain": [
       "p1            0.078224\n",
       "p2            0.023762\n",
       "Phi_high      0.471917\n",
       "fun          12.921332\n",
       "Succes        0.000000\n",
       "Time        117.555208\n",
       "dtype: float64"
      ]
     },
     "execution_count": 95,
     "metadata": {},
     "output_type": "execute_result"
    }
   ],
   "source": [
    "Data_2.std() # Find Standard Deviation"
   ]
  },
  {
   "cell_type": "code",
   "execution_count": 28,
   "metadata": {},
   "outputs": [],
   "source": [
    "# Unpack results \n",
    "phi_highs = np.empty(50)\n",
    "p1s = np.empty(50)\n",
    "p2s = np.empty(50)\n",
    "\n",
    "for i in range(50): \n",
    "    phi_highs[i] = saved_result[f'result_{i}'][\"Phi_high\"]\n",
    "    p1s[i] = saved_result[f'result_{i}'][\"p1\"]\n",
    "    p2s[i] = saved_result[f'result_{i}'][\"p2\"]"
   ]
  },
  {
   "attachments": {},
   "cell_type": "markdown",
   "metadata": {},
   "source": [
    "## 2.3) Make a scatter plot over the estimates of phi high and p1 "
   ]
  },
  {
   "cell_type": "code",
   "execution_count": 100,
   "metadata": {},
   "outputs": [
    {
     "data": {
      "image/png": "[encoded data removed]",
      "text/plain": [
       "<Figure size 640x480 with 1 Axes>"
      ]
     },
     "metadata": {},
     "output_type": "display_data"
    }
   ],
   "source": [
    "# Make scatter plot that shows the correlation \n",
    "fig,ax = plt.subplots(1,1)\n",
    "ax.scatter(Data_2.p1,Data_2.Phi_high)\n",
    "\n",
    "ax.set_ylabel(\"Estimate of $t(\\phi_{high})$\")\n",
    "ax.set_xlabel(\"Estimate of $p_{high}$\")\n",
    "ax.grid()\n",
    "ax.set_ylim([4,8])\n",
    "ax.set_xlim([0,0.65])\n",
    "\n",
    "ax.vlines(0.5,0,10,color=\"red\")\n",
    "ax.hlines(5,0,10,color=\"red\")\n",
    "\n",
    "fig.savefig(r\"figs\\scatter_phi_p_2.png\")"
   ]
  },
  {
   "cell_type": "code",
   "execution_count": 101,
   "metadata": {},
   "outputs": [
    {
     "data": {
      "text/html": [
       "<div>\n",
       "<style scoped>\n",
       "    .dataframe tbody tr th:only-of-type {\n",
       "        vertical-align: middle;\n",
       "    }\n",
       "\n",
       "    .dataframe tbody tr th {\n",
       "        vertical-align: top;\n",
       "    }\n",
       "\n",
       "    .dataframe thead th {\n",
       "        text-align: right;\n",
       "    }\n",
       "</style>\n",
       "<table border=\"1\" class=\"dataframe\">\n",
       "  <thead>\n",
       "    <tr style=\"text-align: right;\">\n",
       "      <th></th>\n",
       "      <th>p1</th>\n",
       "      <th>p2</th>\n",
       "      <th>Phi_high</th>\n",
       "      <th>fun</th>\n",
       "      <th>Succes</th>\n",
       "      <th>Time</th>\n",
       "    </tr>\n",
       "  </thead>\n",
       "  <tbody>\n",
       "    <tr>\n",
       "      <th>result_24</th>\n",
       "      <td>0.211744</td>\n",
       "      <td>0.494812</td>\n",
       "      <td>6.759836</td>\n",
       "      <td>51.70163</td>\n",
       "      <td>True</td>\n",
       "      <td>792.346431</td>\n",
       "    </tr>\n",
       "    <tr>\n",
       "      <th>result_28</th>\n",
       "      <td>0.09437</td>\n",
       "      <td>0.434419</td>\n",
       "      <td>7.22307</td>\n",
       "      <td>77.656059</td>\n",
       "      <td>True</td>\n",
       "      <td>643.925917</td>\n",
       "    </tr>\n",
       "  </tbody>\n",
       "</table>\n",
       "</div>"
      ],
      "text/plain": [
       "                 p1        p2  Phi_high        fun Succes        Time\n",
       "result_24  0.211744  0.494812  6.759836   51.70163   True  792.346431\n",
       "result_28   0.09437  0.434419   7.22307  77.656059   True  643.925917"
      ]
     },
     "execution_count": 101,
     "metadata": {},
     "output_type": "execute_result"
    }
   ],
   "source": [
    "# Inspect Outliers \n",
    "I = Data_2.fun>6\n",
    "Data_2[I]"
   ]
  },
  {
   "attachments": {},
   "cell_type": "markdown",
   "metadata": {},
   "source": [
    "# 3) Plot Criterion Functions "
   ]
  },
  {
   "attachments": {},
   "cell_type": "markdown",
   "metadata": {},
   "source": [
    "## 3.1) Criterion Function for Experiment I "
   ]
  },
  {
   "cell_type": "code",
   "execution_count": 16,
   "metadata": {},
   "outputs": [],
   "source": [
    "# Set up of the model\n",
    "model = Model() # Load model\n",
    "model.setup() # Set initial parameters \n",
    "\n",
    "# solution and simulation specs\n",
    "model.par.Na = 200\n",
    "model.par.Tmax = 45\n",
    "model.par.Tsim = model.par.Tmax\n",
    "model.par.Ntypes = 4\n",
    "model.par.N = 10000\n",
    "model.par.Ns = 10\n",
    "# set parameters to those in par2\n",
    "for key, val in par2.items():\n",
    "    model.par.__setattr__(key, val)\n",
    "\n",
    "model.par.easy_par=False # Not used\n",
    "\n",
    "# Set grids\n",
    "model.set_grids()\n",
    "\n",
    "par = model.par\n",
    "sol = model.sol\n",
    "sim = model.sim\n",
    "\n",
    "# Simulate and find income shares \n",
    "model.solve()\n",
    "simulate(sim,sol,par)\n",
    "data = copy.deepcopy(sim)\n",
    "data_true = data \n",
    "share_Rich = np.sum((data_true.type == 0) + (data_true.type == 2)) / len(data_true.type) \n",
    "share_Poor = 1-share_Rich\n"
   ]
  },
  {
   "cell_type": "code",
   "execution_count": 14,
   "metadata": {},
   "outputs": [
    {
     "ename": "NameError",
     "evalue": "name 'share_Rich' is not defined",
     "output_type": "error",
     "traceback": [
      "\u001b[1;31m---------------------------------------------------------------------------\u001b[0m",
      "\u001b[1;31mNameError\u001b[0m                                 Traceback (most recent call last)",
      "\u001b[1;32m~\\AppData\\Local\\Temp\\ipykernel_22800\\3356419041.py\u001b[0m in \u001b[0;36m<module>\u001b[1;34m\u001b[0m\n\u001b[0;32m     12\u001b[0m     \u001b[1;32mfor\u001b[0m \u001b[0mi1\u001b[0m\u001b[1;33m,\u001b[0m\u001b[0mp1\u001b[0m \u001b[1;32min\u001b[0m \u001b[0menumerate\u001b[0m\u001b[1;33m(\u001b[0m\u001b[0mp1s\u001b[0m\u001b[1;33m)\u001b[0m\u001b[1;33m:\u001b[0m \u001b[1;31m# Find criterion value for each point in p1s x p2s\u001b[0m\u001b[1;33m\u001b[0m\u001b[1;33m\u001b[0m\u001b[0m\n\u001b[0;32m     13\u001b[0m         \u001b[1;32mfor\u001b[0m \u001b[0mi2\u001b[0m\u001b[1;33m,\u001b[0m\u001b[0mp2\u001b[0m \u001b[1;32min\u001b[0m \u001b[0menumerate\u001b[0m\u001b[1;33m(\u001b[0m\u001b[0mp2s\u001b[0m\u001b[1;33m)\u001b[0m\u001b[1;33m:\u001b[0m\u001b[1;33m\u001b[0m\u001b[1;33m\u001b[0m\u001b[0m\n\u001b[1;32m---> 14\u001b[1;33m             \u001b[0mc\u001b[0m \u001b[1;33m=\u001b[0m \u001b[0mest\u001b[0m\u001b[1;33m.\u001b[0m\u001b[0mobj\u001b[0m\u001b[1;33m(\u001b[0m\u001b[1;33m[\u001b[0m\u001b[0mp1\u001b[0m\u001b[1;33m,\u001b[0m\u001b[0mp2\u001b[0m\u001b[1;33m]\u001b[0m\u001b[1;33m,\u001b[0m \u001b[0mdata\u001b[0m\u001b[1;33m,\u001b[0m \u001b[0mmodel\u001b[0m\u001b[1;33m,\u001b[0m \u001b[1;33m[\u001b[0m\u001b[0mshare_Rich\u001b[0m\u001b[1;33m,\u001b[0m \u001b[0mshare_Poor\u001b[0m\u001b[1;33m]\u001b[0m\u001b[1;33m,\u001b[0m \u001b[1;34m\"I\"\u001b[0m\u001b[1;33m)\u001b[0m\u001b[1;33m\u001b[0m\u001b[1;33m\u001b[0m\u001b[0m\n\u001b[0m\u001b[0;32m     15\u001b[0m             \u001b[0mcriterion\u001b[0m\u001b[1;33m[\u001b[0m\u001b[0mi1\u001b[0m\u001b[1;33m,\u001b[0m\u001b[0mi2\u001b[0m\u001b[1;33m]\u001b[0m \u001b[1;33m=\u001b[0m \u001b[0mc\u001b[0m\u001b[1;33m\u001b[0m\u001b[1;33m\u001b[0m\u001b[0m\n\u001b[0;32m     16\u001b[0m \u001b[1;33m\u001b[0m\u001b[0m\n",
      "\u001b[1;31mNameError\u001b[0m: name 'share_Rich' is not defined"
     ]
    }
   ],
   "source": [
    "run = True # Change to True to run\n",
    "\n",
    "if run:\n",
    "    N = 10 # Points in each dimension\n",
    "\n",
    "    # Set values \n",
    "    p1s = np.linspace(1e-8, 1-1e-8, N)\n",
    "    p2s = np.linspace(1e-8, 1-1e-8, N)\n",
    "\n",
    "    criterion = np.zeros((N,N)) # Grid to save values \n",
    "\n",
    "    for i1,p1 in enumerate(p1s): # Find criterion value for each point in p1s x p2s \n",
    "        for i2,p2 in enumerate(p2s):\n",
    "            c = est.obj([p1,p2], data, model, [share_Rich, share_Poor], \"I\")\n",
    "            criterion[i1,i2] = c\n",
    "\n",
    "    to_file = (p1s, p2s, criterion) # Make ready to save \n",
    "\n",
    "    with open('criterion_plot_10000','wb') as file: # Save File \n",
    "        pickle.dump(to_file, file)"
   ]
  },
  {
   "cell_type": "code",
   "execution_count": 141,
   "metadata": {},
   "outputs": [
    {
     "data": {
      "image/png": "[encoded data removed]",
      "text/plain": [
       "<Figure size 640x480 with 2 Axes>"
      ]
     },
     "metadata": {},
     "output_type": "display_data"
    }
   ],
   "source": [
    "# Plot the criterion function using the values from above\n",
    "%matplotlib inline\n",
    "\n",
    "with open('criterion_plot_10000', 'rb') as file:\n",
    "    p1s, p2s, criterion = pickle.load(file)\n",
    "\n",
    "p1_mesh, p2_mesh = np.meshgrid(p1s, p2s,  indexing='ij')\n",
    "\n",
    "fig = plt.figure()\n",
    "ax = fig.add_subplot()\n",
    "contour = ax.contourf(p1_mesh, p2_mesh, criterion, cmap='viridis', levels = [0,50, 100, 200, 400, 600, 800, 1000])\n",
    "ax.set_xlabel(r'$p(\\theta = \\theta_{high} | \\phi = \\phi_{high})$')\n",
    "ax.set_ylabel(r'$p(\\theta = \\theta_{low} | \\phi = \\phi_{high})$')\n",
    "ax.scatter(0.5, 0.5, color='red')\n",
    "\n",
    "cbar = fig.colorbar(contour)\n",
    "\n",
    "fig.savefig('figs/criterion_p1p2.png')"
   ]
  },
  {
   "attachments": {},
   "cell_type": "markdown",
   "metadata": {},
   "source": [
    "## 3.2) Criterion functions for Experiment II "
   ]
  },
  {
   "cell_type": "code",
   "execution_count": 17,
   "metadata": {},
   "outputs": [
    {
     "name": "stdout",
     "output_type": "stream",
     "text": [
      "Setup done\n",
      "Model solved\n",
      "Model simulated\n"
     ]
    }
   ],
   "source": [
    "model_easy = Model()\n",
    "model_easy.setup()\n",
    "\n",
    "# solution and simulation specs\n",
    "model_easy.par.Na = 200\n",
    "model_easy.par.Tmax = 45\n",
    "model_easy.par.Tsim = model.par.Tmax\n",
    "model_easy.par.Ntypes = 4\n",
    "model_easy.par.N = 10000\n",
    "\n",
    "# set parameters\n",
    "for key, val in par2.items():\n",
    "    model_easy.par.__setattr__(key, val)\n",
    "\n",
    "model_easy.par.easy_par = False\n",
    "model_easy.set_grids()\n",
    "\n",
    "print('Setup done')\n",
    "\n",
    "model_easy.solve()\n",
    "print('Model solved')\n",
    "\n",
    "simulate(model_easy.sim, model_easy.sol, model_easy.par)\n",
    "print('Model simulated')\n",
    "\n"
   ]
  },
  {
   "cell_type": "code",
   "execution_count": 18,
   "metadata": {},
   "outputs": [],
   "source": [
    "data_easy = copy.deepcopy(model_easy.sim)"
   ]
  },
  {
   "cell_type": "code",
   "execution_count": 19,
   "metadata": {},
   "outputs": [
    {
     "name": "stdout",
     "output_type": "stream",
     "text": [
      "5105.380673077476\n",
      "2927.315627552893\n",
      "1602.9981712807682\n",
      "865.0077963503521\n",
      "421.6138549625449\n",
      "178.75258062696795\n",
      "53.77550082896774\n",
      "9.846275001638595\n",
      "24.829643236441697\n",
      "76.26697588070685\n",
      "4450.353244462103\n",
      "2388.908048146858\n",
      "1229.3324690945879\n",
      "619.1754119672897\n",
      "269.35978183679975\n",
      "93.75528634169727\n",
      "17.926286163427307\n",
      "9.558549903925762\n",
      "49.27410140570591\n",
      "118.50598046943661\n",
      "3863.378560843589\n",
      "1895.093150338766\n",
      "902.075303952725\n",
      "412.7143882897161\n",
      "149.4566941513782\n",
      "34.79385530036952\n",
      "2.8780541602144103\n",
      "27.834092484631014\n",
      "91.28452176560674\n",
      "177.24194090892394\n",
      "3354.8620221720603\n",
      "1480.086366813924\n",
      "637.2537926347388\n",
      "254.7284794797563\n",
      "67.2969460264173\n",
      "5.897439772618772\n",
      "10.433260232231811\n",
      "61.34559462586779\n",
      "141.81976395810426\n",
      "239.52540521202792\n",
      "2901.618044470528\n",
      "1114.0594409328628\n",
      "418.5687196430651\n",
      "131.69377268899447\n",
      "17.772933656414782\n",
      "3.6085513740481274\n",
      "41.54351151856668\n",
      "117.02144597915378\n",
      "213.3550696053212\n",
      "320.2301896346154\n",
      "2519.3056091368417\n",
      "813.3403594153148\n",
      "247.10486567927387\n",
      "51.7121039593696\n",
      "1.019551513646812\n",
      "27.845472271650518\n",
      "89.44481829158475\n",
      "180.54074184253324\n",
      "288.41797770152345\n",
      "399.74328511835307\n",
      "2200.5877177081875\n",
      "564.9508195789323\n",
      "124.10186722570015\n",
      "9.66717781422235\n",
      "14.920946727429875\n",
      "77.14647656896813\n",
      "161.21014279524854\n",
      "267.7202595052836\n",
      "385.92179275076035\n",
      "501.16101965923474\n",
      "1908.1293367850726\n",
      "358.9734550908784\n",
      "37.50335095139059\n",
      "5.703088926664942\n",
      "67.13996101477028\n",
      "161.9284674779101\n",
      "266.37935972227285\n",
      "386.35930012241363\n",
      "513.487443922304\n",
      "631.6244675747648\n",
      "1685.621871293611\n",
      "213.86758123952723\n",
      "5.216806998718638\n",
      "41.81648425787361\n",
      "150.6770866057072\n",
      "271.37673639685886\n",
      "386.91472062846117\n",
      "512.2636224334672\n",
      "644.3652739034918\n",
      "763.462192595193\n",
      "1517.2635579204336\n",
      "125.24623750755596\n",
      "21.593599289179867\n",
      "121.06670122680816\n",
      "266.23711274569945\n",
      "408.30735880688604\n",
      "529.2710047606442\n",
      "658.0766792348991\n",
      "788.4331194535476\n",
      "904.6549674247675\n"
     ]
    }
   ],
   "source": [
    "# Criterion function, fix p2=0.5\n",
    "# tranfsers and p1\n",
    "run = True\n",
    "\n",
    "if run:\n",
    "    p2 = 0.5\n",
    "    N = 10\n",
    "    p1_grid = np.linspace(1e-8, 1-1e-8, N)\n",
    "    phi_grid = np.linspace(2, 8, N)\n",
    "    p1_mesh, phi_mesh = np.meshgrid(p1_grid, phi_grid, indexing='ij')\n",
    "\n",
    "    cri1_mesh = np.zeros((N,N)) + np.nan\n",
    "\n",
    "    for i1,p1 in enumerate(p1_grid):\n",
    "        for ip,phi in enumerate(phi_grid):\n",
    "            c = est.obj_transfer([p1,p2, phi], data_easy, model_easy, [share_Rich, share_Poor], \"I\")\n",
    "            cri1_mesh[i1,ip] = c\n",
    "\n",
    "    to_file = (p1_grid, phi_grid, cri1_mesh)\n",
    "\n",
    "    with open('criterion_plot_p1phi','wb') as file:\n",
    "        pickle.dump(to_file, file)"
   ]
  },
  {
   "cell_type": "code",
   "execution_count": 20,
   "metadata": {},
   "outputs": [
    {
     "data": {
      "image/png": "[encoded data removed]",
      "text/plain": [
       "<Figure size 640x480 with 2 Axes>"
      ]
     },
     "metadata": {},
     "output_type": "display_data"
    }
   ],
   "source": [
    "%matplotlib inline\n",
    "\n",
    "with open('criterion_plot_p1phi', 'rb') as file:\n",
    "    p1s, phi_grid, cri1_mesh = pickle.load(file)\n",
    "\n",
    "p1_mesh, phi_mesh = np.meshgrid(p1s, phi_grid, indexing='ij')\n",
    "\n",
    "fig = plt.figure()\n",
    "ax = fig.add_subplot(1,1,1)\n",
    "contour = ax.contourf(p1_mesh, phi_mesh, cri1_mesh, levels=[0, 25, 50, 100, 200, 400, 800, 1600])\n",
    "ax.set_xlabel(r'$p(\\theta = \\theta_{high} | \\phi = \\phi_{high})$')\n",
    "ax.set_ylabel('$\\phi_{high}$')\n",
    "\n",
    "cmap = fig.colorbar(contour)\n",
    "\n",
    "ax.scatter(0.5, 5, label='True value', color='red')\n",
    "\n",
    "fig.savefig('figs/criterion_p1phi.png')"
   ]
  },
  {
   "cell_type": "code",
   "execution_count": 21,
   "metadata": {},
   "outputs": [
    {
     "name": "stdout",
     "output_type": "stream",
     "text": [
      "3056.901966945079\n",
      "1309.9149211431145\n",
      "679.1614423917426\n",
      "439.6804501803078\n",
      "361.5007283780331\n",
      "368.8935563816686\n",
      "422.6703741815518\n",
      "508.89205749575865\n",
      "612.4994782897311\n",
      "724.7043580722589\n",
      "2922.977158148188\n",
      "1176.657424174602\n",
      "545.06574379413\n",
      "305.7115517417878\n",
      "228.0885629846381\n",
      "235.63200503528856\n",
      "288.4150776140782\n",
      "374.40113065832145\n",
      "476.78114053237607\n",
      "588.7340147299724\n",
      "2824.472397389531\n",
      "1069.8003808823044\n",
      "444.31204605192977\n",
      "205.33748798688288\n",
      "127.61336047466824\n",
      "134.5119334444713\n",
      "186.79027754933537\n",
      "272.97883114938855\n",
      "375.46055608171355\n",
      "487.0414054425497\n",
      "2761.005997415853\n",
      "1003.5583515644598\n",
      "373.7548176621815\n",
      "133.1786235978596\n",
      "53.274682336870654\n",
      "58.56148413044698\n",
      "109.15300422927919\n",
      "193.97330322740788\n",
      "295.6806458172865\n",
      "408.14440022141844\n",
      "2715.890156431249\n",
      "964.3097850524123\n",
      "332.6254034787331\n",
      "93.09119216660761\n",
      "13.605999940274923\n",
      "19.499862867807664\n",
      "72.17128453344792\n",
      "157.96048765162362\n",
      "257.8349283325377\n",
      "368.51222152930757\n",
      "2706.8251311943495\n",
      "957.7594068755747\n",
      "326.9131589366863\n",
      "86.8431555355434\n",
      "7.2369744528624285\n",
      "12.4982570778612\n",
      "63.926420748718016\n",
      "149.78523732482464\n",
      "250.60917999347282\n",
      "360.68799687011335\n",
      "2741.037116175731\n",
      "984.5936415595046\n",
      "353.35248198165533\n",
      "111.83344609933869\n",
      "32.421421381124816\n",
      "39.48947753123221\n",
      "93.615903749828\n",
      "180.24767042395374\n",
      "282.6893483703436\n",
      "395.0213056374384\n",
      "2794.758015392909\n",
      "1038.7023683824707\n",
      "408.64835075222334\n",
      "166.0996809948673\n",
      "89.36619795394755\n",
      "98.50500833748046\n",
      "154.97520279952403\n",
      "241.6460572216037\n",
      "346.125444688802\n",
      "460.73654709791646\n",
      "2890.6761425253076\n",
      "1132.6717874857081\n",
      "504.2450396951366\n",
      "258.40469529030133\n",
      "181.8404730186783\n",
      "191.49204497442116\n",
      "250.28196241161203\n",
      "339.2890491618019\n",
      "446.31469465101327\n",
      "562.9523622682475\n",
      "3014.726847648515\n",
      "1254.5712654025424\n",
      "627.835885125123\n",
      "382.9161605354177\n",
      "308.080677609096\n",
      "319.24828022390096\n",
      "377.68055151052226\n",
      "468.4385777354121\n",
      "575.7736745991923\n",
      "694.8035407931363\n"
     ]
    }
   ],
   "source": [
    "# Criterion function, fix p1=0.5\n",
    "# transfers and p2\n",
    "\n",
    "run = True\n",
    "\n",
    "if run:\n",
    "    p1 = 0.5\n",
    "    N = 10\n",
    "    p2_grid = np.linspace(1e-8, 1-1e-8, N)\n",
    "    phi_grid = np.linspace(2, 8, N)\n",
    "    p2_mesh, phi_mesh = np.meshgrid(p1_grid, phi_grid, indexing='ij')\n",
    "\n",
    "    cri2_mesh = np.zeros((N,N)) + np.nan\n",
    "\n",
    "    for i2,p2 in enumerate(p1_grid):\n",
    "        for ip,phi in enumerate(phi_grid):\n",
    "            c = est.obj_transfer([p1,p2, phi], data, model, [share_Rich, share_Poor], \"I\")\n",
    "            cri2_mesh[i2,ip] = c\n",
    "\n",
    "    to_file = (p2_grid, phi_grid, cri2_mesh)\n",
    "\n",
    "    with open('criterion_plot_p2phi','wb') as file:\n",
    "        pickle.dump(to_file, file)"
   ]
  },
  {
   "cell_type": "code",
   "execution_count": 23,
   "metadata": {},
   "outputs": [
    {
     "data": {
      "image/png": "[encoded data removed]",
      "text/plain": [
       "<Figure size 640x480 with 2 Axes>"
      ]
     },
     "metadata": {},
     "output_type": "display_data"
    }
   ],
   "source": [
    "%matplotlib inline\n",
    "\n",
    "with open('criterion_plot_p2phi', 'rb') as file:\n",
    "    p2s, phi_grid, cri2_mesh = pickle.load(file)\n",
    "\n",
    "p2_mesh, phi_mesh = np.meshgrid(p2s, phi_grid, indexing='ij')\n",
    "\n",
    "fig = plt.figure()\n",
    "ax = fig.add_subplot()\n",
    "contour = ax.contourf(p2_mesh, phi_mesh, cri2_mesh, cmap='viridis', levels=[0, 25, 50, 100, 200, 400, 800, 1600])\n",
    "ax.set_xlabel(r'$p(\\theta = \\theta_{high} | \\phi = \\phi_{low})$')\n",
    "ax.set_ylabel('$\\phi_{high}$')\n",
    "\n",
    "cmap = fig.colorbar(contour)\n",
    "\n",
    "ax.scatter(0.5, 5, color='red')\n",
    "\n",
    "fig.savefig('figs/criterion_p2phi.png')"
   ]
  },
  {
   "cell_type": "code",
   "execution_count": null,
   "metadata": {},
   "outputs": [],
   "source": []
  }
 ],
 "metadata": {
  "kernelspec": {
   "display_name": "base",
   "language": "python",
   "name": "python3"
  },
  "language_info": {
   "codemirror_mode": {
    "name": "ipython",
    "version": 3
   },
   "file_extension": ".py",
   "mimetype": "text/x-python",
   "name": "python",
   "nbconvert_exporter": "python",
   "pygments_lexer": "ipython3",
   "version": "3.9.13"
  },
  "orig_nbformat": 4
 },
 "nbformat": 4,
 "nbformat_minor": 2
}
