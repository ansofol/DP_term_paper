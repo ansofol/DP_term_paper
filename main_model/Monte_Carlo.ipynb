{
 "cells": [
  {
   "attachments": {},
   "cell_type": "markdown",
   "metadata": {},
   "source": [
    "# Notebook for Monte-Carlo Simulation"
   ]
  },
  {
   "cell_type": "code",
   "execution_count": 106,
   "metadata": {},
   "outputs": [
    {
     "name": "stdout",
     "output_type": "stream",
     "text": [
      "The autoreload extension is already loaded. To reload it, use:\n",
      "  %reload_ext autoreload\n",
      "The line_profiler extension is already loaded. To reload it, use:\n",
      "  %reload_ext line_profiler\n"
     ]
    }
   ],
   "source": [
    "## Import Various Packages \n",
    "\n",
    "%load_ext autoreload\n",
    "%autoreload 2\n",
    "\n",
    "%load_ext line_profiler\n",
    "# Import files related to the model\n",
    "from Simulation import simulate\n",
    "import EGM\n",
    "import tools\n",
    "import DC_EGM\n",
    "import Estimation as est\n",
    "\n",
    "# Import General packages \n",
    "import numpy as np\n",
    "from scipy import optimize\n",
    "from model import Model\n",
    "from matplotlib import pyplot as plt\n",
    "import pickle\n",
    "import seaborn as sns\n",
    "import auxiliary_funcs as af\n",
    "import time as time\n",
    "import copy as copy\n",
    "import pandas as pd \n",
    "\n",
    "import warnings\n",
    "warnings.filterwarnings('ignore') #:)"
   ]
  },
  {
   "cell_type": "code",
   "execution_count": 107,
   "metadata": {},
   "outputs": [],
   "source": [
    "# Parameters used \n",
    "par2 = {'a_max':100,\n",
    "        'Smax': 6,\n",
    "        'sigma_taste': 0.3,\n",
    "        'sigma': 0.5,\n",
    "        'm_initial': 1,\n",
    "        'phi_high': 5,\n",
    "        'phi_low': 1,\n",
    "        'theta_high':0.66,\n",
    "        'theta_low':0.33,\n",
    "        'lambda_max':0.797\n",
    "        }"
   ]
  },
  {
   "cell_type": "code",
   "execution_count": 108,
   "metadata": {},
   "outputs": [],
   "source": [
    "# Set up of the model\n",
    "model = Model() # Load model\n",
    "model.setup() # Set initial parameters \n",
    "\n",
    "# solution and simulation specs\n",
    "model.par.Na = 200\n",
    "model.par.Tmax = 45\n",
    "model.par.Tsim = model.par.Tmax\n",
    "model.par.Ntypes = 4\n",
    "model.par.N = 10000\n",
    "model.par.Ns = 10\n",
    "# set parameters to those in par2\n",
    "for key, val in par2.items():\n",
    "    model.par.__setattr__(key, val)\n",
    "\n",
    "model.par.easy_par=False # Not used\n",
    "\n",
    "# Set grids\n",
    "model.set_grids()\n",
    "\n",
    "par = model.par\n",
    "sol = model.sol\n",
    "sim = model.sim"
   ]
  },
  {
   "cell_type": "code",
   "execution_count": 109,
   "metadata": {},
   "outputs": [
    {
     "name": "stdout",
     "output_type": "stream",
     "text": [
      "Model Solved\n"
     ]
    }
   ],
   "source": [
    "# Solve Model \n",
    "model.solve()\n",
    "print(\"Model Solved\")"
   ]
  },
  {
   "attachments": {},
   "cell_type": "markdown",
   "metadata": {},
   "source": [
    "# 1) Monte Carlo Experiment I "
   ]
  },
  {
   "cell_type": "code",
   "execution_count": 77,
   "metadata": {},
   "outputs": [],
   "source": [
    "run = True # Change to True to Run the Experiment\n",
    "\n",
    "if run == False: \n",
    "    # Initialize \n",
    "    Results = {}  # Dictionary for results\n",
    "    dist_true = [0.25,0.25,0.25,0.25] # True parameters \n",
    "    N = 50 # Number of MC iterations \n",
    "\n",
    "    for i in range(N): \n",
    "\n",
    "        par.dist = dist_true # Reset distribution to the true distribution\n",
    "\n",
    "        est.reset_sim(sim,model) # Allocate simulation grids\n",
    "\n",
    "        # Change Seed \n",
    "        seed_obj = np.random \n",
    "        seed_obj.seed(1667+i)\n",
    "        par.random = seed_obj\n",
    "\n",
    "        simulate(sim,sol,par) # Simulate \n",
    "        \n",
    "        data = model.sim  # Save simulation results\n",
    " \n",
    "        sec = time.time() # Start timing\n",
    "\n",
    "        res,_ = est.estimate(est.obj,data,model,[0.2,0.8]) # Estimate from geuss\n",
    "\n",
    "        time_it = time.time() - sec # Calculate Time\n",
    "\n",
    "        # Dictionary with results for iteration i\n",
    "        result = {  \"p1\" : res.x[0], \n",
    "                    \"p2\" : res.x[1], \n",
    "                    \"fun\" : res.fun, \n",
    "                    \"Succes\" : res.success,\n",
    "                    \"Time\" : time_it }\n",
    "        \n",
    "        Results[f\"result_{i}\"] = result # Save results "
   ]
  },
  {
   "cell_type": "code",
   "execution_count": 21,
   "metadata": {},
   "outputs": [
    {
     "data": {
      "text/plain": [
       "p1         0.026864\n",
       "p2         0.026138\n",
       "fun        0.596626\n",
       "Succes     0.000000\n",
       "Time      59.540754\n",
       "dtype: float64"
      ]
     },
     "execution_count": 21,
     "metadata": {},
     "output_type": "execute_result"
    }
   ],
   "source": [
    "results.std()"
   ]
  },
  {
   "attachments": {},
   "cell_type": "markdown",
   "metadata": {},
   "source": [
    "# 2) Monte Carlo Experiment II "
   ]
  },
  {
   "attachments": {},
   "cell_type": "markdown",
   "metadata": {},
   "source": [
    "## 2.1) Monte Carlo  "
   ]
  },
  {
   "cell_type": "code",
   "execution_count": 79,
   "metadata": {},
   "outputs": [],
   "source": [
    "run = False # Change to True to run\n",
    "\n",
    "sol_true = copy.deepcopy(sol) # Save Actual Solution\n",
    "\n",
    "if run == True: \n",
    "    # Initialize\n",
    "    Results = {} # Dictionary for results\n",
    "    \n",
    "    # True parameters \n",
    "    dist_true = [0.25,0.25,0.25,0.25] \n",
    "    phi_high_true = 5\n",
    "\n",
    "    N = 50 # Number of MC iterations \n",
    "\n",
    "    for i in range(N): \n",
    "\n",
    "        par.dist = dist_true # Set true distribution\n",
    "\n",
    "        est.reset_sim(sim,model) # Allocation Simulation grids\n",
    "\n",
    "        # Set Seed\n",
    "        seed_obj = np.random\n",
    "        seed_obj.seed(1687+i)\n",
    "        par.random = seed_obj \n",
    "\n",
    "        setattr(model.par, \"phi_high\", phi_high_true) # Set true transfers \n",
    "        simulate(sim,sol_true,par) # Simulate\n",
    "        \n",
    "        data = model.sim # Save simulation\n",
    "\n",
    "        sec = time.time() # Starting timing\n",
    "\n",
    "        res = est.estimate_transfer(data,model,[0.2,0.8,3]) # Estimate \n",
    "\n",
    "        time_it = time.time() - sec #Calculate time\n",
    "\n",
    "        # Dictionary for results of iteration i\n",
    "        result = {  \"p1\" : res.x[0], \n",
    "                    \"p2\" : res.x[1],\n",
    "                    \"Phi_high\" : res.x[2], \n",
    "                    \"fun\" : res.fun, \n",
    "                    \"Succes\" : res.success,\n",
    "                    \"Time\" : time_it }\n",
    "        \n",
    "        Results[f\"result_{i}\"] = result # Save results"
   ]
  },
  {
   "attachments": {},
   "cell_type": "markdown",
   "metadata": {},
   "source": [
    "## 2.1) Play around with the results from Experiment II "
   ]
  },
  {
   "cell_type": "code",
   "execution_count": 88,
   "metadata": {},
   "outputs": [
    {
     "data": {
      "text/plain": [
       "\"\\nobj_result = Results \\nfile_result = open('MC.obj2','wb')\\npickle.dump(obj_result,file_result,protocol=pickle.HIGHEST_PROTOCOL)\\n\""
      ]
     },
     "execution_count": 88,
     "metadata": {},
     "output_type": "execute_result"
    }
   ],
   "source": [
    "# Export experiment II to Pickle\n",
    "'''\n",
    "obj_result = Results \n",
    "file_result = open('MC.obj2','wb')\n",
    "pickle.dump(obj_result,file_result,protocol=pickle.HIGHEST_PROTOCOL)\n",
    "'''\n"
   ]
  },
  {
   "cell_type": "code",
   "execution_count": 96,
   "metadata": {},
   "outputs": [],
   "source": [
    "# Open results \n",
    "file_open = open('MC.obj2','rb')\n",
    "saved_result = pickle.load(file_open)"
   ]
  },
  {
   "cell_type": "code",
   "execution_count": 97,
   "metadata": {},
   "outputs": [],
   "source": [
    "# Change to dataframe \n",
    "Data_2 = pd.DataFrame(saved_result).T"
   ]
  },
  {
   "cell_type": "code",
   "execution_count": 98,
   "metadata": {},
   "outputs": [
    {
     "data": {
      "text/plain": [
       "p1            0.492586\n",
       "p2            0.506192\n",
       "Phi_high      5.002631\n",
       "fun           3.384104\n",
       "Succes        1.000000\n",
       "Time        940.810290\n",
       "dtype: float64"
      ]
     },
     "execution_count": 98,
     "metadata": {},
     "output_type": "execute_result"
    }
   ],
   "source": [
    "Data_2.mean() # Find mean"
   ]
  },
  {
   "cell_type": "code",
   "execution_count": 95,
   "metadata": {},
   "outputs": [
    {
     "data": {
      "text/plain": [
       "p1            0.078224\n",
       "p2            0.023762\n",
       "Phi_high      0.471917\n",
       "fun          12.921332\n",
       "Succes        0.000000\n",
       "Time        117.555208\n",
       "dtype: float64"
      ]
     },
     "execution_count": 95,
     "metadata": {},
     "output_type": "execute_result"
    }
   ],
   "source": [
    "Data_2.std() # Find Standard Deviation"
   ]
  },
  {
   "cell_type": "code",
   "execution_count": 28,
   "metadata": {},
   "outputs": [],
   "source": [
    "# Unpack results \n",
    "phi_highs = np.empty(50)\n",
    "p1s = np.empty(50)\n",
    "p2s = np.empty(50)\n",
    "\n",
    "for i in range(50): \n",
    "    phi_highs[i] = saved_result[f'result_{i}'][\"Phi_high\"]\n",
    "    p1s[i] = saved_result[f'result_{i}'][\"p1\"]\n",
    "    p2s[i] = saved_result[f'result_{i}'][\"p2\"]"
   ]
  },
  {
   "attachments": {},
   "cell_type": "markdown",
   "metadata": {},
   "source": [
    "## 2.3) Make a scatter plot over the estimates of phi high and p1 "
   ]
  },
  {
   "cell_type": "code",
   "execution_count": 100,
   "metadata": {},
   "outputs": [
    {
     "data": {
      "image/png": "[encoded data removed]",
      "text/plain": [
       "<Figure size 640x480 with 1 Axes>"
      ]
     },
     "metadata": {},
     "output_type": "display_data"
    }
   ],
   "source": [
    "# Make scatter plot that shows the correlation \n",
    "fig,ax = plt.subplots(1,1)\n",
    "ax.scatter(Data_2.p1,Data_2.Phi_high)\n",
    "\n",
    "ax.set_ylabel(\"Estimate of $t(\\phi_{high})$\")\n",
    "ax.set_xlabel(\"Estimate of $p_{high}$\")\n",
    "ax.grid()\n",
    "ax.set_ylim([4,8])\n",
    "ax.set_xlim([0,0.65])\n",
    "\n",
    "ax.vlines(0.5,0,10,color=\"red\")\n",
    "ax.hlines(5,0,10,color=\"red\")\n",
    "\n",
    "fig.savefig(r\"figs\\scatter_phi_p_2.png\")"
   ]
  },
  {
   "cell_type": "code",
   "execution_count": 101,
   "metadata": {},
   "outputs": [
    {
     "data": {
      "text/html": [
       "<div>\n",
       "<style scoped>\n",
       "    .dataframe tbody tr th:only-of-type {\n",
       "        vertical-align: middle;\n",
       "    }\n",
       "\n",
       "    .dataframe tbody tr th {\n",
       "        vertical-align: top;\n",
       "    }\n",
       "\n",
       "    .dataframe thead th {\n",
       "        text-align: right;\n",
       "    }\n",
       "</style>\n",
       "<table border=\"1\" class=\"dataframe\">\n",
       "  <thead>\n",
       "    <tr style=\"text-align: right;\">\n",
       "      <th></th>\n",
       "      <th>p1</th>\n",
       "      <th>p2</th>\n",
       "      <th>Phi_high</th>\n",
       "      <th>fun</th>\n",
       "      <th>Succes</th>\n",
       "      <th>Time</th>\n",
       "    </tr>\n",
       "  </thead>\n",
       "  <tbody>\n",
       "    <tr>\n",
       "      <th>result_24</th>\n",
       "      <td>0.211744</td>\n",
       "      <td>0.494812</td>\n",
       "      <td>6.759836</td>\n",
       "      <td>51.70163</td>\n",
       "      <td>True</td>\n",
       "      <td>792.346431</td>\n",
       "    </tr>\n",
       "    <tr>\n",
       "      <th>result_28</th>\n",
       "      <td>0.09437</td>\n",
       "      <td>0.434419</td>\n",
       "      <td>7.22307</td>\n",
       "      <td>77.656059</td>\n",
       "      <td>True</td>\n",
       "      <td>643.925917</td>\n",
       "    </tr>\n",
       "  </tbody>\n",
       "</table>\n",
       "</div>"
      ],
      "text/plain": [
       "                 p1        p2  Phi_high        fun Succes        Time\n",
       "result_24  0.211744  0.494812  6.759836   51.70163   True  792.346431\n",
       "result_28   0.09437  0.434419   7.22307  77.656059   True  643.925917"
      ]
     },
     "execution_count": 101,
     "metadata": {},
     "output_type": "execute_result"
    }
   ],
   "source": [
    "# Inspect Outliers \n",
    "I = Data_2.fun>6\n",
    "Data_2[I]"
   ]
  },
  {
   "attachments": {},
   "cell_type": "markdown",
   "metadata": {},
   "source": [
    "# 3) Plot Criterion Functions "
   ]
  },
  {
   "attachments": {},
   "cell_type": "markdown",
   "metadata": {},
   "source": [
    "## 3.1) Criterion Function for Experiment I "
   ]
  },
  {
   "cell_type": "code",
   "execution_count": 138,
   "metadata": {},
   "outputs": [],
   "source": [
    "# Set up of the model\n",
    "model = Model() # Load model\n",
    "model.setup() # Set initial parameters \n",
    "\n",
    "# solution and simulation specs\n",
    "model.par.Na = 200\n",
    "model.par.Tmax = 45\n",
    "model.par.Tsim = model.par.Tmax\n",
    "model.par.Ntypes = 4\n",
    "model.par.N = 10000\n",
    "model.par.Ns = 10\n",
    "# set parameters to those in par2\n",
    "for key, val in par2.items():\n",
    "    model.par.__setattr__(key, val)\n",
    "\n",
    "model.par.easy_par=False # Not used\n",
    "\n",
    "# Set grids\n",
    "model.set_grids()\n",
    "\n",
    "par = model.par\n",
    "sol = model.sol\n",
    "sim = model.sim\n",
    "\n",
    "# Simulate and find income shares \n",
    "model.solve()\n",
    "simulate(sim,sol,par)\n",
    "data = copy.deepcopy(sim)\n",
    "share_Rich = np.sum((data_true.type == 0) + (data_true.type == 2)) / len(data_true.type) \n",
    "share_Poor = 1-share_Rich\n"
   ]
  },
  {
   "cell_type": "code",
   "execution_count": 139,
   "metadata": {},
   "outputs": [
    {
     "name": "stdout",
     "output_type": "stream",
     "text": [
      "626.9866363286424\n",
      "489.5775148989072\n",
      "395.23515612140125\n",
      "324.5333715033224\n",
      "291.9000491954629\n",
      "289.03631542295716\n",
      "305.6844263913851\n",
      "362.9260763029929\n",
      "452.86580452795124\n",
      "579.66064382397\n",
      "518.4994026127376\n",
      "384.70850192384484\n",
      "281.02837194320136\n",
      "214.9200367679609\n",
      "180.79585713966628\n",
      "172.3576250220659\n",
      "193.43711472999587\n",
      "250.8142036747231\n",
      "341.59489522085835\n",
      "465.2426315911593\n",
      "436.6191942053074\n",
      "294.400137722598\n",
      "196.59182505065314\n",
      "130.72419319217443\n",
      "92.12690406476425\n",
      "85.86677361711007\n",
      "109.17870067816723\n",
      "168.30463839851535\n",
      "257.17833735764646\n",
      "383.75338158423506\n",
      "382.31116602708113\n",
      "244.90540866441924\n",
      "147.89727281202482\n",
      "75.52127847959797\n",
      "36.98092443341068\n",
      "29.156357983506304\n",
      "53.98855354409541\n",
      "110.26632391124201\n",
      "199.9902575208216\n",
      "321.31594552870456\n",
      "358.7381894081746\n",
      "225.01326190972324\n",
      "122.89151083104959\n",
      "50.01779879243384\n",
      "10.01421918432412\n",
      "3.5373931444904243\n",
      "28.72407296870209\n",
      "86.03235143770743\n",
      "174.10571084984255\n",
      "304.1500596007\n",
      "365.0761440442057\n",
      "227.6352950423193\n",
      "126.06417877450207\n",
      "51.694756013199196\n",
      "13.825316426857292\n",
      "8.412935255635471\n",
      "36.45494531038118\n",
      "95.30855917768068\n",
      "190.10863600811817\n",
      "320.8295929149915\n",
      "399.8655643652362\n",
      "261.670276872264\n",
      "158.74682271009732\n",
      "84.52046986575127\n",
      "46.85192820146312\n",
      "41.63531363578121\n",
      "72.27317352423029\n",
      "133.67764258563233\n",
      "226.40833267668518\n",
      "356.20261301342543\n",
      "461.27126312414146\n",
      "322.08164321114634\n",
      "220.36417868379397\n",
      "146.02693707571564\n",
      "108.00894902638244\n",
      "106.31566081604376\n",
      "137.95723157391066\n",
      "197.16697930757869\n",
      "288.1277290350989\n",
      "417.3349057057879\n",
      "556.6009037871806\n",
      "417.35948528935626\n",
      "316.699146749602\n",
      "240.13860497761212\n",
      "205.23962335388177\n",
      "201.22396573743228\n",
      "230.66766256202257\n",
      "288.07800200833265\n",
      "378.9549708922625\n",
      "514.4230679496941\n",
      "681.9295401623688\n",
      "546.1637367673346\n",
      "445.39339502199323\n",
      "372.3331227379411\n",
      "332.63447083509624\n",
      "326.1007264151011\n",
      "353.7260561520408\n",
      "412.77825938671606\n",
      "509.0163906142558\n",
      "635.8159415648747\n"
     ]
    }
   ],
   "source": [
    "run = True # Change to True to run\n",
    "\n",
    "if run:\n",
    "    N = 10 # Points in each dimension\n",
    "\n",
    "    # Set values \n",
    "    p1s = np.linspace(1e-8, 1-1e-8, N)\n",
    "    p2s = np.linspace(1e-8, 1-1e-8, N)\n",
    "\n",
    "    criterion = np.zeros((N,N)) # Grid to save values \n",
    "\n",
    "    for i1,p1 in enumerate(p1s): # Find criterion value for each point in p1s x p2s \n",
    "        for i2,p2 in enumerate(p2s):\n",
    "            c = est.obj([p1,p2], data, model, [share_Rich, share_Poor], \"I\")\n",
    "            criterion[i1,i2] = c\n",
    "\n",
    "    to_file = (p1s, p2s, criterion) # Make ready to save \n",
    "\n",
    "    with open('criterion_plot_10000','wb') as file: # Save File \n",
    "        pickle.dump(to_file, file)"
   ]
  },
  {
   "cell_type": "code",
   "execution_count": 141,
   "metadata": {},
   "outputs": [
    {
     "data": {
      "image/png": "[encoded data removed]",
      "text/plain": [
       "<Figure size 640x480 with 2 Axes>"
      ]
     },
     "metadata": {},
     "output_type": "display_data"
    }
   ],
   "source": [
    "# Plot the criterion function using the values from above\n",
    "%matplotlib inline\n",
    "\n",
    "with open('criterion_plot_10000', 'rb') as file:\n",
    "    p1s, p2s, criterion = pickle.load(file)\n",
    "\n",
    "p1_mesh, p2_mesh = np.meshgrid(p1s, p2s,  indexing='ij')\n",
    "\n",
    "fig = plt.figure()\n",
    "ax = fig.add_subplot()\n",
    "contour = ax.contourf(p1_mesh, p2_mesh, criterion, cmap='viridis', levels = [0,50, 100, 200, 400, 600, 800, 1000])\n",
    "ax.set_xlabel(r'$p(\\theta = \\theta_{high} | \\phi = \\phi_{high})$')\n",
    "ax.set_ylabel(r'$p(\\theta = \\theta_{low} | \\phi = \\phi_{high})$')\n",
    "ax.scatter(0.5, 0.5, color='red')\n",
    "\n",
    "cbar = fig.colorbar(contour)\n",
    "\n",
    "fig.savefig('figs/criterion_p1p2.png')"
   ]
  },
  {
   "attachments": {},
   "cell_type": "markdown",
   "metadata": {},
   "source": [
    "## 3.2) Criterion functions for Experiment II "
   ]
  },
  {
   "cell_type": "code",
   "execution_count": 168,
   "metadata": {},
   "outputs": [
    {
     "name": "stdout",
     "output_type": "stream",
     "text": [
      "Setup done\n",
      "Model solved\n",
      "Model simulated\n"
     ]
    }
   ],
   "source": [
    "model_easy = Model()\n",
    "model_easy.setup()\n",
    "\n",
    "# solution and simulation specs\n",
    "model_easy.par.Na = 200\n",
    "model_easy.par.Tmax = 45\n",
    "model_easy.par.Tsim = model.par.Tmax\n",
    "model_easy.par.Ntypes = 4\n",
    "model_easy.par.N = 10000\n",
    "\n",
    "# set parameters\n",
    "for key, val in par2.items():\n",
    "    model_easy.par.__setattr__(key, val)\n",
    "\n",
    "model_easy.par.easy_par = False\n",
    "model_easy.set_grids()\n",
    "\n",
    "print('Setup done')\n",
    "\n",
    "model_easy.solve()\n",
    "print('Model solved')\n",
    "\n",
    "simulate(model_easy.sim, model_easy.sol, model_easy.par)\n",
    "print('Model simulated')"
   ]
  },
  {
   "cell_type": "code",
   "execution_count": 169,
   "metadata": {},
   "outputs": [],
   "source": [
    "data_easy = copy.deepcopy(model_easy.sim)"
   ]
  },
  {
   "cell_type": "code",
   "execution_count": 170,
   "metadata": {},
   "outputs": [
    {
     "name": "stdout",
     "output_type": "stream",
     "text": [
      "1394.2228512416546\n",
      "1011.0234922308422\n",
      "712.3789771993613\n",
      "492.17738577475535\n",
      "335.15361396993296\n",
      "239.21428993475504\n",
      "170.59824095747499\n",
      "131.46754534165626\n",
      "108.8048375942043\n",
      "100.45578090166673\n",
      "1041.8909251394898\n",
      "723.782657583593\n",
      "490.00663650706883\n",
      "321.60567390131956\n",
      "203.6411940489979\n",
      "136.55991949589006\n",
      "91.83825351511598\n",
      "69.14802236219505\n",
      "61.37705500939938\n",
      "63.888125480237875\n",
      "740.8994806588894\n",
      "489.6033378037226\n",
      "310.3905041784318\n",
      "184.61515547739626\n",
      "102.99713839658831\n",
      "60.53390109814896\n",
      "36.10399945260169\n",
      "27.924778272127636\n",
      "32.57884661050581\n",
      "45.42617189742616\n",
      "500.4637900947338\n",
      "311.25266360842306\n",
      "179.76978983039743\n",
      "92.2828827166263\n",
      "40.60776771560986\n",
      "17.025256836223097\n",
      "9.554334003645732\n",
      "13.799341193300517\n",
      "28.162759634025942\n",
      "48.443079166548486\n",
      "308.06372127947697\n",
      "171.9545632850302\n",
      "84.5012175160245\n",
      "31.991154179652547\n",
      "6.724995344039419\n",
      "1.1993144047660793\n",
      "8.222128409508588\n",
      "23.89713476030599\n",
      "47.79328140030424\n",
      "75.26265738700452\n",
      "172.05957517772347\n",
      "80.79188234350434\n",
      "30.983138730070092\n",
      "7.785397738096117\n",
      "3.968717164022564\n",
      "13.277638707301845\n",
      "31.19330369212529\n",
      "54.50389959019245\n",
      "84.26930309182177\n",
      "116.30190342512992\n",
      "86.12603638781617\n",
      "36.590550220968005\n",
      "17.484294863347618\n",
      "17.13945922446259\n",
      "31.13520454079586\n",
      "52.420094614262595\n",
      "79.10064132231238\n",
      "108.47814482596901\n",
      "142.02670482928713\n",
      "178.42041403866693\n",
      "44.82548718120386\n",
      "34.79151031766636\n",
      "43.625868346102536\n",
      "64.43937133451053\n",
      "95.44719875001397\n",
      "127.22853792615504\n",
      "161.72468159585137\n",
      "197.20447174626017\n",
      "233.65755675416142\n",
      "272.1566135109449\n",
      "57.47521081965472\n",
      "79.26418700866161\n",
      "108.78385260686134\n",
      "145.72795731286715\n",
      "190.25416498090075\n",
      "229.20810178431358\n",
      "267.2066748239963\n",
      "304.8413219252006\n",
      "340.4369615648513\n",
      "378.5812338456229\n",
      "125.22044286879768\n",
      "173.690910845281\n",
      "218.08697941509595\n",
      "264.2418292519514\n",
      "314.75765208688546\n",
      "358.8159577789632\n",
      "398.24837228321184\n",
      "435.41756386197886\n",
      "468.5827665125641\n",
      "503.9518438833406\n"
     ]
    }
   ],
   "source": [
    "# Criterion function, fix p2=0.5\n",
    "# tranfsers and p1\n",
    "run = True\n",
    "\n",
    "if run:\n",
    "    p2 = 0.5\n",
    "    N = 10\n",
    "    p1_grid = np.linspace(1e-8, 1-1e-8, N)\n",
    "    phi_grid = np.linspace(2, 8, N)\n",
    "    p1_mesh, phi_mesh = np.meshgrid(p1_grid, phi_grid, indexing='ij')\n",
    "\n",
    "    cri1_mesh = np.zeros((N,N)) + np.nan\n",
    "\n",
    "    for i1,p1 in enumerate(p1_grid):\n",
    "        for ip,phi in enumerate(phi_grid):\n",
    "            c = est.obj_transfer([p1,p2, phi], data_easy, model_easy, [share_Rich, share_Poor], \"I\")\n",
    "            cri1_mesh[i1,ip] = c\n",
    "\n",
    "    to_file = (p1_grid, phi_grid, cri1_mesh)\n",
    "\n",
    "    with open('criterion_plot_p1phi','wb') as file:\n",
    "        pickle.dump(to_file, file)"
   ]
  },
  {
   "cell_type": "code",
   "execution_count": 172,
   "metadata": {},
   "outputs": [
    {
     "data": {
      "image/png": "[encoded data removed]",
      "text/plain": [
       "<Figure size 640x480 with 2 Axes>"
      ]
     },
     "metadata": {},
     "output_type": "display_data"
    }
   ],
   "source": [
    "%matplotlib inline\n",
    "\n",
    "with open('criterion_plot_p1phi', 'rb') as file:\n",
    "    p1s, phi_grid, cri1_mesh = pickle.load(file)\n",
    "\n",
    "p1_mesh, phi_mesh = np.meshgrid(p1s, phi_grid, indexing='ij')\n",
    "\n",
    "fig = plt.figure()\n",
    "ax = fig.add_subplot(1,1,1)\n",
    "contour = ax.contourf(p1_mesh, phi_mesh, cri1_mesh, levels=[0, 25, 50, 100, 200, 400, 800, 1600])\n",
    "ax.set_xlabel(r'$p(\\theta = \\theta_{high} | \\phi = \\phi_{high})$')\n",
    "ax.set_ylabel('$\\phi_{high}$')\n",
    "\n",
    "cmap = fig.colorbar(contour)\n",
    "\n",
    "ax.scatter(0.5, 5, label='True value', color='red')\n",
    "\n",
    "fig.savefig('figs/criterion_p1phi.png')"
   ]
  },
  {
   "cell_type": "code",
   "execution_count": 158,
   "metadata": {},
   "outputs": [
    {
     "name": "stdout",
     "output_type": "stream",
     "text": [
      "585.6335610498938\n",
      "477.2831065287549\n",
      "409.1402745999691\n",
      "371.86094642147685\n",
      "358.571158927687\n",
      "361.2359280148345\n",
      "375.54066813793133\n",
      "396.4584664637188\n",
      "423.67473031987765\n",
      "453.3387229491277\n",
      "451.39082750768637\n",
      "341.7780497617705\n",
      "273.7847549937176\n",
      "237.0611867622649\n",
      "223.64209589557385\n",
      "226.37131758997668\n",
      "240.55872829514212\n",
      "261.58563237714634\n",
      "288.80353068438785\n",
      "317.9842918310484\n",
      "349.7660558282987\n",
      "240.51865833402667\n",
      "172.34996733568767\n",
      "136.16011044644245\n",
      "122.8631799376645\n",
      "125.65702508139688\n",
      "139.2777133869165\n",
      "160.18944000893254\n",
      "187.329430089229\n",
      "216.7003712652926\n",
      "278.9173408681454\n",
      "167.93684530004936\n",
      "99.18652418294096\n",
      "61.930194060830146\n",
      "48.36722228022566\n",
      "50.812860531562286\n",
      "63.963893937780696\n",
      "84.440227908021\n",
      "110.84574895203622\n",
      "139.30400330681977\n",
      "240.550111815717\n",
      "128.2245279997269\n",
      "59.61465292826891\n",
      "22.284536448214126\n",
      "8.948565479125007\n",
      "11.530684164268884\n",
      "25.07543650939496\n",
      "45.181274715303815\n",
      "72.6816344832211\n",
      "102.35565896896543\n",
      "234.134327005501\n",
      "122.5109314616436\n",
      "54.020152252895464\n",
      "16.610123937140994\n",
      "2.5239991544371416\n",
      "4.833467704511108\n",
      "17.77142315160164\n",
      "37.35035671036398\n",
      "64.67431562462933\n",
      "95.42847186315475\n",
      "264.0595875318296\n",
      "150.78782272578573\n",
      "81.64623999239959\n",
      "43.30184125570971\n",
      "28.468877514256953\n",
      "30.94192879026849\n",
      "44.53036057000773\n",
      "64.9160457903475\n",
      "92.49861459332689\n",
      "123.08814035151556\n",
      "317.44561127533035\n",
      "205.7490992099538\n",
      "136.6605078330501\n",
      "100.22682605076015\n",
      "86.33338222701228\n",
      "89.62285397013918\n",
      "104.19873873730265\n",
      "125.95593478185728\n",
      "153.78313820429793\n",
      "185.0395703249477\n",
      "409.84371292363727\n",
      "297.6965883358532\n",
      "228.42880408659596\n",
      "192.11374984585635\n",
      "178.64243299633293\n",
      "182.11020842503902\n",
      "196.97911450833968\n",
      "219.6515119741277\n",
      "247.38267860994569\n",
      "279.41319774153374\n",
      "534.793510473536\n",
      "421.3121184251194\n",
      "353.07748998143165\n",
      "318.1483467891033\n",
      "305.1497115498512\n",
      "309.55265571738096\n",
      "324.8586364912908\n",
      "348.85849954611285\n",
      "376.3896387516105\n",
      "407.96669321389743\n"
     ]
    }
   ],
   "source": [
    "# Criterion function, fix p1=0.5\n",
    "# transfers and p2\n",
    "\n",
    "run = True\n",
    "\n",
    "if run:\n",
    "    p1 = 0.5\n",
    "    N = 10\n",
    "    p2_grid = np.linspace(1e-8, 1-1e-8, N)\n",
    "    phi_grid = np.linspace(2, 8, N)\n",
    "    p2_mesh, phi_mesh = np.meshgrid(p1_grid, phi_grid, indexing='ij')\n",
    "\n",
    "    cri2_mesh = np.zeros((N,N)) + np.nan\n",
    "\n",
    "    for i2,p2 in enumerate(p1_grid):\n",
    "        for ip,phi in enumerate(phi_grid):\n",
    "            c = est.obj_transfer([p1,p2, phi], data, model, [share_Rich, share_Poor], \"I\")\n",
    "            cri2_mesh[i2,ip] = c\n",
    "\n",
    "    to_file = (p2_grid, phi_grid, cri2_mesh)\n",
    "\n",
    "    with open('criterion_plot_p2phi','wb') as file:\n",
    "        pickle.dump(to_file, file)"
   ]
  },
  {
   "cell_type": "code",
   "execution_count": 161,
   "metadata": {},
   "outputs": [
    {
     "data": {
      "image/png": "[encoded data removed]",
      "text/plain": [
       "<Figure size 640x480 with 2 Axes>"
      ]
     },
     "metadata": {},
     "output_type": "display_data"
    }
   ],
   "source": [
    "%matplotlib inline\n",
    "\n",
    "with open('criterion_plot_p2phi', 'rb') as file:\n",
    "    p2s, phi_grid, cri2_mesh = pickle.load(file)\n",
    "\n",
    "p2_mesh, phi_mesh = np.meshgrid(p2s, phi_grid, indexing='ij')\n",
    "\n",
    "fig = plt.figure()\n",
    "ax = fig.add_subplot()\n",
    "contour = ax.contourf(p2_mesh, phi_mesh, cri2_mesh, cmap='viridis', levels=[0, 25, 50, 100, 200, 400, 800, 1600])\n",
    "ax.set_xlabel(r'$p(\\theta = \\theta_{high} | \\phi = \\phi_{low})$')\n",
    "ax.set_ylabel('$\\phi_{high}$')\n",
    "\n",
    "cmap = fig.colorbar(contour)\n",
    "\n",
    "ax.scatter(0.5, 5, color='red')\n",
    "\n",
    "fig.savefig('figs/criterion_p2phi.png')"
   ]
  }
 ],
 "metadata": {
  "kernelspec": {
   "display_name": "base",
   "language": "python",
   "name": "python3"
  },
  "language_info": {
   "codemirror_mode": {
    "name": "ipython",
    "version": 3
   },
   "file_extension": ".py",
   "mimetype": "text/x-python",
   "name": "python",
   "nbconvert_exporter": "python",
   "pygments_lexer": "ipython3",
   "version": "3.9.13"
  },
  "orig_nbformat": 4
 },
 "nbformat": 4,
 "nbformat_minor": 2
}
